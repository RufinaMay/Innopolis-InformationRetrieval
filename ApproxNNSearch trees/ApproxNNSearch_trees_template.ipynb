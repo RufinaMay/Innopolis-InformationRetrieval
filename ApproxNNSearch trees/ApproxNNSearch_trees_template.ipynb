{
 "cells": [
  {
   "cell_type": "markdown",
   "metadata": {
    "colab_type": "text",
    "id": "uSPw9Qr0AJ_q"
   },
   "source": [
    "# Approximate Nearest Neighbours Search. Tree indices\n",
    "\n",
    "Today's lab is devoted to ANNS with trees. At the lecture we discussed that trees can be very useful, if we have vector representation of an object. Today you will write your our own index (simple kd-tree) and compare it with [Annoy](https://github.com/spotify/annoy) library.\n",
    "\n",
    "Tutorial consists of the following parts:\n",
    "1. Writing kd-tree\n",
    "  1. building kd-tree index\n",
    "  2. implementing kd-tree search\n",
    "  3. implementing KNN search\n",
    "  4. implementing kd-tree insertion\n",
    "2. Building Annoy index (`pip install --user annoy`)\n",
    "3. Practicing on real data (download a dataset from [here](https://drive.google.com/drive/folders/1nhiJC6g5R5uPDYwa-6sz9_bJ3sYGm8mM?usp=sharing))\n",
    "  1. KNN search on real data\n",
    "  2. implementing kd-tree range search\n",
    "4. Bonus Task. Set of open questions"
   ]
  },
  {
   "cell_type": "code",
   "execution_count": 0,
   "metadata": {
    "colab": {},
    "colab_type": "code",
    "id": "_uvZg4JkAJ_v"
   },
   "outputs": [],
   "source": [
    "# all necessary imports are here\n",
    "import random, time, sys\n",
    "from tqdm import tqdm_notebook\n",
    "import matplotlib.pyplot as plt\n",
    "import numpy as np\n",
    "from scipy.spatial import distance\n",
    "import pickle"
   ]
  },
  {
   "cell_type": "markdown",
   "metadata": {
    "colab_type": "text",
    "id": "OtbIm88WAJ_1"
   },
   "source": [
    "# Data Generation\n",
    "Firstly you will test your data structure using randomly generated values. At this step generate big enough random dataset. If your laptop spends a lot of time on this operation, please, reduce `maxsize` value and rerun.\n",
    "\n",
    "After you finish implementation, you can tune `K_random` parameter to see how the number of dimensions influences data structure time complexity (see question 4)."
   ]
  },
  {
   "cell_type": "code",
   "execution_count": 2,
   "metadata": {
    "colab": {
     "base_uri": "https://localhost:8080/",
     "height": 72
    },
    "colab_type": "code",
    "id": "S8BE-nYcAJ_2",
    "outputId": "bcad99a4-66b6-4162-d448-d824f1b5751d"
   },
   "outputs": [
    {
     "name": "stdout",
     "output_type": "stream",
     "text": [
      "[(array([0.98459523, 0.45224201, 0.8045975 ]), 'stub value 0'), (array([0.7161094 , 0.4511443 , 0.68819303]), 'stub value 1'), (array([0.19598424, 0.48856068, 0.46364563]), 'stub value 2')]\n",
      "50000 rows generated in 0.05 s\n"
     ]
    }
   ],
   "source": [
    "K_random = 3\n",
    "maxsize = 50000\n",
    "start = time.time()\n",
    "R = np.random.rand(maxsize, K_random)\n",
    "R = [(row, \"stub value {}\".format(i)) for i, row in enumerate(R)]\n",
    "print(R[:3])\n",
    "finish = time.time()\n",
    "print(\"{} rows generated in {:.2f} s\".format(len(R), finish - start))"
   ]
  },
  {
   "cell_type": "markdown",
   "metadata": {
    "colab_type": "text",
    "id": "CC9zaMkvAJ_9"
   },
   "source": [
    "# 1. Implementations\n",
    "Within this cell you will iteratively implement major methods of [kd-tree](https://en.wikipedia.org/wiki/K-d_tree) data structure. Biggest part of code is already written - just fill remaining gaps. \n",
    "\n",
    "This particular implementation is designed to be **non-homogeneous**, which means it **stores values only in leaf nodes**. But this doesn't limit you if you want to implement other approach.\n",
    "\n",
    "Each leaf node can hold up to `leaf_capacity` items.\n",
    "\n",
    "Item stored in an index is a tuple: `(coordinate_k_dim_vector, value)`.\n",
    "\n",
    "Search requires only `coordinate_k_dim_vector` and returns relevant item(s)."
   ]
  },
  {
   "cell_type": "code",
   "execution_count": 0,
   "metadata": {
    "colab": {},
    "colab_type": "code",
    "id": "GhA1km9cAJ__"
   },
   "outputs": [],
   "source": [
    "class Node:\n",
    "    def __init__(self, K=None, parent=None):\n",
    "        assert K is not None or parent, \"Either `K` should be provided for root node, or `parent` for internal nodes\"\n",
    "        # Reference to parent node. Used in ANNS search\n",
    "        self.parent = parent\n",
    "        # depth start from 0. To compute dimension, relevant to the level, use (self.depth % self.K)\n",
    "        self.depth = (parent.depth + 1) if parent else 0\n",
    "        # K means number of vector dimensions\n",
    "        self.K = parent.K if parent else K\n",
    "        # value, which splits subspace into to parts using hyperplane: item[self.depth % self.K] == self.pivot\n",
    "        # pivot is empty for any leaf node.\n",
    "        self.pivot = None\n",
    "        # left and right child nodes\n",
    "        self.left = None\n",
    "        self.right = None\n",
    "        # collection of items\n",
    "        self.items = None\n",
    "        \n",
    "    def build_kd_tree(self, items, leaf_capacity=4):\n",
    "        '''Takes a list of items and arranges it in a kd-tree'''\n",
    "        assert items is not None, \"Please provide at least one point\"\n",
    "        # put all items in the node if they fit into limit\n",
    "        axis = self.depth % self.K\n",
    "        if len(items) <= leaf_capacity or len(np.unique([item[0] for item in items]))==1: # OR ALL ELEMENTS ARE SAME\n",
    "            self.items = items\n",
    "        # or else split items into 2 subnodes using median value\n",
    "        else:\n",
    "            self.items = None\n",
    "            self.left = Node(parent=self)\n",
    "            self.right = Node(parent=self)\n",
    "            \n",
    "            #TODO 1.A.: fill in the code to initialize internal node.\n",
    "            # Be careful: there may be multiple items with the same values as pivot,\n",
    "            # make sure they go to the same child.\n",
    "            # Also, there may be duplicate items, and you need to deal with them\n",
    "            # берем медиану по измерению depth%k, k размерность вектора\n",
    "            sorted_items = sorted(items, key=lambda pair: pair[0][axis])\n",
    "            idx = len(sorted_items)//2\n",
    "            self.pivot = sorted_items[idx][0][axis]   # here you should write median value with respect to coordinate\n",
    "            \n",
    "            for i in range(idx,len(sorted_items)):\n",
    "              if sorted_items[i][0][axis] != self.pivot:\n",
    "                i-=1\n",
    "                break\n",
    "            left = sorted_items[:i+1]\n",
    "            right = sorted_items[i+1:]\n",
    "\n",
    "            if len(right)==0:\n",
    "              for i in range(idx,0,-1):\n",
    "                if sorted_items[i][0][axis] != self.pivot:\n",
    "                  break\n",
    "            self.pivot = sorted_items[i][0][axis]\n",
    "            left = sorted_items[:i+1]\n",
    "            right = sorted_items[i+1:]\n",
    "\n",
    "            self.left.build_kd_tree(left)\n",
    "            self.right.build_kd_tree(right)\n",
    "\n",
    "        return self\n",
    "    \n",
    "    def kd_find_leaf(self, key):\n",
    "        # key массив из х значений\n",
    "        ''' returns a node where key should be stored (but can be not present)'''\n",
    "        if self.pivot is None or self.items is not None: # leaf node OR empty root\n",
    "            return self\n",
    "        else:\n",
    "            \n",
    "            #TODO 1.B. This is a basic operation for travesing the tree.\n",
    "            # define correct path to continue recursion \n",
    "            axis = self.depth % self.K\n",
    "            value = key[axis]\n",
    "\n",
    "            if value<=self.pivot:\n",
    "              return self.left.kd_find_leaf(key)\n",
    "            else:\n",
    "              return self.right.kd_find_leaf(key)\n",
    "            \n",
    "#     def kd_insert_no_split(self, item):\n",
    "#         '''Naive implementation of insert into leaf node. It is not used in tests of this tutorial.'''\n",
    "#         node = self.kd_find_leaf(item[0])\n",
    "#         node.items.append(item)\n",
    "        \n",
    "    def kd_insert_with_split(self, item, leaf_capacity=4):\n",
    "      '''This method recursively splits the nodes into 2 child nodes if they overflow `leaf_capacity`'''\n",
    "      # (array([0.52543181, 0.94242058, 0.75474618]), 'stub value test 1.C.')\n",
    "      #TODO 1.C. This is very simple insertion procedure.\n",
    "      # Split the node if it cannot accept one more item.\n",
    "      # HINT: reuse kd_find_leaf() and build_kd_tree() methods if possible\n",
    "      node_to_store = self.kd_find_leaf(item[0])\n",
    "      if node_to_store.items is None:\n",
    "        self.build_kd_tree([item], leaf_capacity)\n",
    "      elif len(node_to_store.items)<leaf_capacity:\n",
    "        node_to_store.items.append(item)\n",
    "      else: # make items none and create right and left childs for this node\n",
    "        items_to_split = node_to_store.items\n",
    "        items_to_split.append(item)\n",
    "        node_to_store.items = None\n",
    "        node_to_store.build_kd_tree(items_to_split, leaf_capacity)\n",
    "\n",
    "    def get_all_leaves(self):\n",
    "      if self.items is not None:\n",
    "        return self.items\n",
    "      else:\n",
    "        return self.left.get_all_leaves()+self.right.get_all_leaves()\n",
    "\n",
    "    def get_nn(self, key, knn):\n",
    "        # key массив из 3х значений\n",
    "        '''Return K approximate nearest neighbours for a given key'''\n",
    "        node = self.kd_find_leaf(key)\n",
    "        best = []\n",
    "        \n",
    "        #TODO 1.D. ANN search.\n",
    "        # write here the code which returns `knn` \n",
    "        # approximate nearest neighbours with respect to euclidean distance\n",
    "        # basically, you need to move up through the parents chain until the number of elements\n",
    "        # in a parent subtree is more or equal too the expected number of nearest neighbors,\n",
    "        # and then return top-k elements of this subtree sorted by euclidean distance\n",
    "        # HINT: you can use [scipy.spatial.]distance.euclidean(a, c) - it is already imported\n",
    "        \n",
    "        # надо найти knn штук ближайших соседей в дереве в терминах евклидова расстояния\n",
    "        # 1 ходить по дереву пока не найдем всех ближайших детей\n",
    "        # if there are no parent of the node or number of items the node is more than or equal to knn just return items\n",
    "        if node.parent == None or len(node.items)>=knn:\n",
    "          for item in node.items:\n",
    "            best.append((item, distance.euclidean(item[0], key)))\n",
    "        else:\n",
    "          parent = node.parent\n",
    "          while len(best)<knn:\n",
    "            #look through all their childs and fill the best list\n",
    "            best = parent.get_all_leaves()\n",
    "            parent = parent.parent\n",
    "        \n",
    "        best = [(item, distance.euclidean(item[0], key)) for item in best ]\n",
    "        best = sorted(best, key=lambda pair: pair[1])[:knn]\n",
    "        return [item[0] for item in best]\n",
    "    \n",
    "    def get_in_range(self, lower_left_bound_key, upper_right_bound_key):\n",
    "        '''Runs range query. Returns all items bounded by the given corners: `lower_left_bound_key`, `upper_right_bound_key`'''\n",
    "        result = []\n",
    "        if self.pivot is None or self.items is not None: # internal node OR empty root\n",
    "            #TODO 3.B.: This is a leaf node. Select only those items from self.item\n",
    "            # which fall into a given range\n",
    "            for item in self.items:\n",
    "              is_ok = True\n",
    "              for i in range(len(item[0])):\n",
    "                if item[0][i]<lower_left_bound_key[i] or item[0][i]>upper_right_bound_key[i]:\n",
    "                  is_ok = False\n",
    "              if is_ok:\n",
    "                result.append(item)\n",
    "            return result\n",
    "        else:\n",
    "            #TODO 3.B.: This is an internal node.\n",
    "            # write recursive code to collect corresponding data from subtrees\n",
    "            # compare pivot to the bounds to decide whether to consider any of its children for search\n",
    "            axis = self.depth%self.K\n",
    "            if self.pivot < lower_left_bound_key[axis]:\n",
    "              return self.right.get_in_range(lower_left_bound_key, upper_right_bound_key)\n",
    "            if self.pivot>upper_right_bound_key[axis]:\n",
    "              return self.left.get_in_range(lower_left_bound_key, upper_right_bound_key)\n",
    "            else:\n",
    "              return self.right.get_in_range(lower_left_bound_key, upper_right_bound_key)+self.left.get_in_range(lower_left_bound_key, upper_right_bound_key)"
   ]
  },
  {
   "cell_type": "markdown",
   "metadata": {
    "colab_type": "text",
    "id": "HZ9yu1TLAKAD"
   },
   "source": [
    "### 1.A. Build procedure ###\n",
    "`build_kd_tree()` method implements the core idea. This is the suggested idea, but you can modify it slightly:\n",
    "- tree is non-homogenous, thus, items are stored in leaf nodes only.\n",
    "- `self.pivot` should be assigned the median value for correspoinding `depth % K` coordinate.\n",
    "- `left` variable should hold all the items <= than `self.pivot`.\n",
    "- `right` variable should hold all the items > than `self.pivot`.\n",
    "- `node_capacity=X` allows to store up to `X` items in a leaf node.\n",
    "\n",
    "This is how it works for `K=2, node_capacity=2`:\n",
    "![kd-tree](http://sprotasov.ru/files/kd.png)\n",
    "\n",
    "Next block will generate you a graph `time(size)`. Please explore the graph. Is it close to linear function?"
   ]
  },
  {
   "cell_type": "code",
   "execution_count": 4,
   "metadata": {
    "colab": {
     "base_uri": "https://localhost:8080/",
     "height": 453,
     "referenced_widgets": [
      "cc6ba656e8de4056878a6293ae2bfcaa",
      "e87d8d7b471e46f2a67ac84716eb5915",
      "82f3e22789934df9a3bfb8e51d03590e",
      "e5ffbe0469c942f28896f7839cd679b4",
      "61b1e801ba134ded9543ed38a905b54a",
      "ff7fef8d24ad49f2a63c8b1067660e8f",
      "67f39b7708c644ecaef5c672e16472af",
      "47204d48907e4c9fbdce702ab0eb62c5"
     ]
    },
    "colab_type": "code",
    "id": "ILadvy3KAKAE",
    "outputId": "bc3046eb-abf7-4cfb-956f-c67429bd976f"
   },
   "outputs": [
    {
     "data": {
      "application/vnd.jupyter.widget-view+json": {
       "model_id": "cc6ba656e8de4056878a6293ae2bfcaa",
       "version_major": 2,
       "version_minor": 0
      },
      "text/plain": [
       "HBox(children=(IntProgress(value=0, max=10), HTML(value='')))"
      ]
     },
     "metadata": {
      "tags": []
     },
     "output_type": "display_data"
    },
    {
     "name": "stdout",
     "output_type": "stream",
     "text": [
      "\n"
     ]
    },
    {
     "data": {
      "image/png": "[encoded data removed]",
      "text/plain": [
       "<Figure size 720x432 with 1 Axes>"
      ]
     },
     "metadata": {
      "tags": []
     },
     "output_type": "display_data"
    }
   ],
   "source": [
    "# sample 10, 20, ..., 100% of R\n",
    "step = len(R) // 10\n",
    "sizes, build_times = [], []\n",
    "\n",
    "# tqdm_notebook draws a progress bar. If it doesnt't work in your environment, just remove it.\n",
    "for size in tqdm_notebook(range(1, len(R) + 1, step)):\n",
    "    sample = R[:size]\n",
    "    start = time.time()\n",
    "    kdtree = Node(K=K_random).build_kd_tree(sample)\n",
    "    finish = time.time()\n",
    "    sizes.append(size)\n",
    "    build_times.append((finish - start) * 1000)\n",
    "\n",
    "    \n",
    "    \n",
    "fig = plt.figure(figsize=(10, 6))\n",
    "a = plt.axes()\n",
    "a.set_xlabel('dataset size')\n",
    "a.set_ylabel('time, ms')\n",
    "plt.plot(sizes, build_times)\n",
    "plt.title(\"KD-tree build speed\")\n",
    "plt.show()"
   ]
  },
  {
   "cell_type": "markdown",
   "metadata": {
    "colab_type": "text",
    "id": "mEcYUC9fAKAJ"
   },
   "source": [
    "### 1.B. Search ###\n",
    "Before running this block, please complete the finction `kd_find_leaf()` which accepts a key vector and returns one leaf node, which should store this key. After you complete, you will see how fastly your queries can be processed with respect to dataset size."
   ]
  },
  {
   "cell_type": "code",
   "execution_count": 5,
   "metadata": {
    "colab": {
     "base_uri": "https://localhost:8080/",
     "height": 453,
     "referenced_widgets": [
      "fc4b93fb7bd14e98b237a97f0529a96a",
      "21b81c8516bf4ab5a8ab57667e590fd4",
      "577e4fe7422d40ada604ed7e274311cf",
      "7907b04457314036a88bb4aa48567b51",
      "b870588eb0ae4eb3b28bc5274ac53ca0",
      "47ce2bfec0fb41f3befd43740f633710",
      "d46f3e38dfbf4778894224373686b938",
      "a7d303c2924a4852850933d8868fd2c9"
     ]
    },
    "colab_type": "code",
    "id": "IXAFeTaxAKAK",
    "outputId": "676b3955-cb02-4f70-8052-04e83c1ff76e"
   },
   "outputs": [
    {
     "data": {
      "application/vnd.jupyter.widget-view+json": {
       "model_id": "fc4b93fb7bd14e98b237a97f0529a96a",
       "version_major": 2,
       "version_minor": 0
      },
      "text/plain": [
       "HBox(children=(IntProgress(value=0, max=10), HTML(value='')))"
      ]
     },
     "metadata": {
      "tags": []
     },
     "output_type": "display_data"
    },
    {
     "name": "stdout",
     "output_type": "stream",
     "text": [
      "\n"
     ]
    },
    {
     "data": {
      "image/png": "[encoded data removed]",
      "text/plain": [
       "<Figure size 720x432 with 1 Axes>"
      ]
     },
     "metadata": {
      "tags": []
     },
     "output_type": "display_data"
    }
   ],
   "source": [
    "step = len(R) // 10\n",
    "sizes, search_times = [], []\n",
    "\n",
    "for size in tqdm_notebook(range(step, len(R) + 1, step)):\n",
    "    kdtree = Node(K=K_random).build_kd_tree(R[:size])\n",
    "    \n",
    "    iterations = 100\n",
    "    duration = None\n",
    "    for i in range(iterations):\n",
    "        x = R[random.randint(0, len(R) - 1)]\n",
    "        start = time.time()\n",
    "        kdtree.kd_find_leaf(x[0])\n",
    "        finish = time.time()\n",
    "        duration = max(duration, finish - start) if duration else finish - start\n",
    "        \n",
    "    sizes.append(size)\n",
    "    search_times.append(duration * 1000)\n",
    "    \n",
    "    \n",
    "fig = plt.figure(figsize=(10, 6))\n",
    "a = plt.axes()\n",
    "a.set_xlabel('dataset size')\n",
    "a.set_ylabel('worst search time (100 attempts), ms')\n",
    "plt.plot(sizes, search_times)\n",
    "plt.title(\"KD-tree search speed\")\n",
    "plt.show()"
   ]
  },
  {
   "cell_type": "markdown",
   "metadata": {
    "colab_type": "text",
    "id": "peQ-ITOcAKAP"
   },
   "source": [
    "### 1.C. Insertion ###\n",
    "Now let's see how fast the tree depth is growing for different capacity set-ups. Implement the remaining part of `kd_insert_with_split()` and run the test."
   ]
  },
  {
   "cell_type": "code",
   "execution_count": 6,
   "metadata": {
    "colab": {
     "base_uri": "https://localhost:8080/",
     "height": 453,
     "referenced_widgets": [
      "fa89a529093c47c994e48601cd1622ae",
      "a322f59d183a4bdba403d676ae591cfc",
      "6b1ff419680345aab89a5fcf21d2790f",
      "6faa725f3e5f41bdb02c0cd3a4e9d0d0",
      "867035746832468d8cd1923c1afc69b2",
      "2d62a3ac6d344a5b9fe2e45aeb722048",
      "91746c48c2334b0d8026e9374be7092c",
      "d11c2fb682954af4a88bda162b6a5625"
     ]
    },
    "colab_type": "code",
    "id": "Dd59bx3nAKAQ",
    "outputId": "dcfe40fb-5678-43fe-d24e-7db16ac3dfd0"
   },
   "outputs": [
    {
     "data": {
      "application/vnd.jupyter.widget-view+json": {
       "model_id": "fa89a529093c47c994e48601cd1622ae",
       "version_major": 2,
       "version_minor": 0
      },
      "text/plain": [
       "HBox(children=(IntProgress(value=0), HTML(value='')))"
      ]
     },
     "metadata": {
      "tags": []
     },
     "output_type": "display_data"
    },
    {
     "name": "stdout",
     "output_type": "stream",
     "text": [
      "\n"
     ]
    },
    {
     "data": {
      "image/png": "[encoded data removed]",
      "text/plain": [
       "<Figure size 720x432 with 1 Axes>"
      ]
     },
     "metadata": {
      "tags": []
     },
     "output_type": "display_data"
    }
   ],
   "source": [
    "step = 5000\n",
    "sample_size = 500000\n",
    "trees = [\n",
    "            Node(K=K_random), \n",
    "            Node(K=K_random), \n",
    "            Node(K=K_random)\n",
    "]\n",
    "capacities = [1, 4, 10]\n",
    "\n",
    "\n",
    "sizes, depths = [], [[], [], []]\n",
    "max_depth = [0, 0, 0]\n",
    "for i in tqdm_notebook(range(0, sample_size, step)):\n",
    "    for item in R[i:i+step]:\n",
    "        for t in range(3):\n",
    "            trees[t].kd_insert_with_split((item[0], \"stub value test 1.C.\"), leaf_capacity=capacities[t])\n",
    "            max_depth[t] = max(trees[t].kd_find_leaf(item[0]).depth, max_depth[t])\n",
    "    sizes.append(i)\n",
    "    for t in range(3):\n",
    "        depths[t].append(max_depth[t])\n",
    "\n",
    "fig = plt.figure(figsize=(10, 6))\n",
    "a = plt.axes()\n",
    "a.set_xlabel('iteration of inserting 5000 points')\n",
    "a.set_ylabel('tree depth after insertions')\n",
    "plt.plot(sizes, depths[0], label=\"capacity={}\".format(capacities[0]))\n",
    "plt.plot(sizes, depths[1], label=\"capacity={}\".format(capacities[1]))\n",
    "plt.plot(sizes, depths[2], label=\"capacity={}\".format(capacities[2]))\n",
    "plt.legend(loc=\"upper left\")\n",
    "plt.title(\"KD-tree insertion speed\")\n",
    "plt.show()"
   ]
  },
  {
   "cell_type": "markdown",
   "metadata": {
    "colab_type": "text",
    "id": "SLuExqEjAKAU"
   },
   "source": [
    "### 1.D. ANNS search ### \n",
    "This block tests `get_nn()` method, which performs approximate nearest neighbour search. Please, complete this method. After you run this block you will see how NN count influences search speed."
   ]
  },
  {
   "cell_type": "code",
   "execution_count": 7,
   "metadata": {
    "colab": {
     "base_uri": "https://localhost:8080/",
     "height": 453,
     "referenced_widgets": [
      "628497070fdd4a238b950580e6e4d475",
      "3813883de53b46828c6d22122089fc32",
      "3b85187f9bd04f38a978ba7473e69466",
      "fdbdbf35707c41e89402964d54f1f879",
      "8e2f0f3c6fbb4b12906df61fd3e6e6da",
      "235a565f2a6d450eaffea8da8955e88b",
      "1b46775e10d44c91ad6018664236a37e",
      "c9816bfbbf124fd28d3f218c47d9f285"
     ]
    },
    "colab_type": "code",
    "id": "bhpjfUFCAKAW",
    "outputId": "d8373ccf-2d3f-46d3-9f7d-9a555911301b"
   },
   "outputs": [
    {
     "data": {
      "application/vnd.jupyter.widget-view+json": {
       "model_id": "628497070fdd4a238b950580e6e4d475",
       "version_major": 2,
       "version_minor": 0
      },
      "text/plain": [
       "HBox(children=(IntProgress(value=0, max=6), HTML(value='')))"
      ]
     },
     "metadata": {
      "tags": []
     },
     "output_type": "display_data"
    },
    {
     "name": "stdout",
     "output_type": "stream",
     "text": [
      "\n"
     ]
    },
    {
     "data": {
      "image/png": "[encoded data removed]",
      "text/plain": [
       "<Figure size 720x432 with 1 Axes>"
      ]
     },
     "metadata": {
      "tags": []
     },
     "output_type": "display_data"
    }
   ],
   "source": [
    "# NN SEARCH\n",
    "kdtree = Node(K=K_random).build_kd_tree(R)\n",
    "times = []\n",
    "nns = [10, 100, 1000, 10000, 20000, 40000]\n",
    "iterations = 10\n",
    "for nn in tqdm_notebook(nns):\n",
    "    start = time.time()\n",
    "    for t in range(iterations):\n",
    "        x = R[random.randint(0, len(R) - 1)]\n",
    "        kdtree.get_nn(x[0], nn)\n",
    "    finish = time.time()\n",
    "    times.append((finish - start) * 1000 / iterations)\n",
    "\n",
    "fig = plt.figure(figsize=(10, 6))\n",
    "a = plt.axes()\n",
    "a.set_xlabel('How many NNs we request')\n",
    "a.set_ylabel('time of search, ms')\n",
    "plt.title(\"KD-tree depth growth with insertions\")\n",
    "plt.plot(nns,times)\n",
    "plt.show()"
   ]
  },
  {
   "cell_type": "markdown",
   "metadata": {
    "colab_type": "text",
    "id": "H9YU1-htAKAY"
   },
   "source": [
    "## 2. [Annoy](https://github.com/spotify/annoy) library ## \n",
    "\n",
    "Now you have your own index data structure. How far is it from industrial implementations?\n",
    "\n",
    "First of all, let's install and import the requirement. Just run it."
   ]
  },
  {
   "cell_type": "code",
   "execution_count": 8,
   "metadata": {
    "colab": {
     "base_uri": "https://localhost:8080/",
     "height": 35
    },
    "colab_type": "code",
    "id": "26NK_UxCAKAa",
    "outputId": "6c1c3ac1-8d6b-4741-ac8e-16abe09484d6"
   },
   "outputs": [
    {
     "name": "stdout",
     "output_type": "stream",
     "text": [
      "Requirement already satisfied: annoy in /root/.local/lib/python3.6/site-packages (1.16.3)\n"
     ]
    }
   ],
   "source": [
    "!pip install --user annoy\n",
    "from annoy import AnnoyIndex"
   ]
  },
  {
   "cell_type": "code",
   "execution_count": 9,
   "metadata": {
    "colab": {
     "base_uri": "https://localhost:8080/",
     "height": 35
    },
    "colab_type": "code",
    "id": "rz0MP4ymAKAd",
    "outputId": "be58ee4b-884e-4d97-a2c2-5e3b24352ef9"
   },
   "outputs": [
    {
     "data": {
      "text/plain": [
       "True"
      ]
     },
     "execution_count": 9,
     "metadata": {
      "tags": []
     },
     "output_type": "execute_result"
    }
   ],
   "source": [
    "# use Eiclidean distance for the index. Also multiple others allowed\n",
    "index = AnnoyIndex(K_random, 'euclidean')\n",
    "\n",
    "for i, row in enumerate(R):\n",
    "    index.add_item(i, row[0])\n",
    "\n",
    "index.build(10) # number of trees\n",
    "\n",
    "# this code shows how to save the index. Loading is fast - it uses memory map (mmap) of file\n",
    "# index.save('test2.ann')\n",
    "# index = AnnoyIndex(dim, 'euclidean')\n",
    "# u.load('test2.ann')"
   ]
  },
  {
   "cell_type": "markdown",
   "metadata": {
    "colab_type": "text",
    "id": "ge6n1LKVAKAf"
   },
   "source": [
    "Second, let's run a test for KNN search. \n",
    "\n",
    "Is it much faster?\n",
    "\n",
    "Is it assimpotically faster?\n",
    "\n",
    "Annoy implementation is faster for all NNS, they are almost equal for small NNs, but on larger NNs our implementation is much slower. "
   ]
  },
  {
   "cell_type": "code",
   "execution_count": 10,
   "metadata": {
    "colab": {
     "base_uri": "https://localhost:8080/",
     "height": 453,
     "referenced_widgets": [
      "f2105ba3593d461aa796be8c0eb6de10",
      "d73f3b2bd1984ab6b5c29c6d606b3aea",
      "d4528ce6d94a4cdb8791e36a74b2722c",
      "0f2d442ec55e424a845ed59912b60d37",
      "a9a25663257f4aa0b573e57e5abdb109",
      "ad598e1546a14c27bff735e973e53613",
      "19828e9b60564ac29a2b019b36e1a1e2",
      "77d874261ead43f8987c71538b082677"
     ]
    },
    "colab_type": "code",
    "id": "bz3--qIxAKAg",
    "outputId": "98f99326-736d-493e-d4bb-21da747941e5"
   },
   "outputs": [
    {
     "data": {
      "application/vnd.jupyter.widget-view+json": {
       "model_id": "f2105ba3593d461aa796be8c0eb6de10",
       "version_major": 2,
       "version_minor": 0
      },
      "text/plain": [
       "HBox(children=(IntProgress(value=0, max=6), HTML(value='')))"
      ]
     },
     "metadata": {
      "tags": []
     },
     "output_type": "display_data"
    },
    {
     "name": "stdout",
     "output_type": "stream",
     "text": [
      "\n"
     ]
    },
    {
     "data": {
      "image/png": "[encoded data removed]",
      "text/plain": [
       "<Figure size 720x432 with 1 Axes>"
      ]
     },
     "metadata": {
      "tags": []
     },
     "output_type": "display_data"
    }
   ],
   "source": [
    "# NN SEARCH\n",
    "times_annoy = []\n",
    "nns = [10, 100, 1000, 10000, 20000, 40000]\n",
    "iterations = 10\n",
    "for nn in tqdm_notebook(nns):\n",
    "    start = time.time()\n",
    "    for t in range(iterations):\n",
    "        x = R[random.randint(0, len(R) - 1)]\n",
    "        index.get_nns_by_vector(x[0], nn)\n",
    "    finish = time.time()\n",
    "    times_annoy.append((finish - start) * 1000 / iterations)\n",
    "\n",
    "fig = plt.figure(figsize=(10, 6))\n",
    "a = plt.axes()\n",
    "a.set_xlabel('How many NNs we request')\n",
    "a.set_ylabel('time, ms')\n",
    "plt.plot(nns, times_annoy, label='Annoy')\n",
    "# you can also build times array on the same graph\n",
    "plt.plot(nns, times, label='KD-tree')\n",
    "plt.legend(loc=\"upper left\")\n",
    "plt.title(\"KD-tree VS Annoy. NN search speed\")\n",
    "plt.show()"
   ]
  },
  {
   "cell_type": "markdown",
   "metadata": {
    "colab_type": "text",
    "id": "lYnmPR70AKAj"
   },
   "source": [
    "## 3. Real data ##\n",
    "\n",
    "Let's pracite on the real data. [Here are samples](https://drive.google.com/drive/folders/1nhiJC6g5R5uPDYwa-6sz9_bJ3sYGm8mM?usp=sharing) of GeoSite's database (63 countries, 21M POIs). Download and uncompress any dataset you like (or can), and load the data with pickle."
   ]
  },
  {
   "cell_type": "code",
   "execution_count": 11,
   "metadata": {
    "colab": {
     "base_uri": "https://localhost:8080/",
     "height": 52
    },
    "colab_type": "code",
    "id": "lMTVSlj_QVbV",
    "outputId": "84c8b1b4-b2e6-418e-c5d6-6489f061b73c"
   },
   "outputs": [
    {
     "name": "stdout",
     "output_type": "stream",
     "text": [
      "Archive:  poi_sample_200K.zip\n",
      "replace poi_sample001.pickle? [y]es, [n]o, [A]ll, [N]one, [r]ename: n\n"
     ]
    }
   ],
   "source": [
    "!unzip poi_sample_200K.zip"
   ]
  },
  {
   "cell_type": "code",
   "execution_count": 12,
   "metadata": {
    "colab": {
     "base_uri": "https://localhost:8080/",
     "height": 606
    },
    "colab_type": "code",
    "id": "6-fUG034AKAk",
    "outputId": "8ac20b99-aa3b-4df2-fef8-869a939e7d09"
   },
   "outputs": [
    {
     "data": {
      "image/png": "[encoded data removed]",
      "text/plain": [
       "<Figure size 1080x720 with 1 Axes>"
      ]
     },
     "metadata": {
      "tags": []
     },
     "output_type": "display_data"
    }
   ],
   "source": [
    "# replace filename if you want to use other index file\n",
    "with open(\"poi_sample001.pickle\", \"rb\") as f:\n",
    "    dataset = pickle.load(f)\n",
    "\n",
    "# let's sample 20000 of points to draw\n",
    "step = len(dataset) // 20000\n",
    "    \n",
    "X = [v[0][0] for v in dataset[::step]]\n",
    "Y = [v[0][1] for v in dataset[::step]]\n",
    "\n",
    "plt.figure(figsize=(15, 10))\n",
    "a = plt.axes()\n",
    "a.set_xlabel('longitude')\n",
    "a.set_ylabel('latitude')\n",
    "plt.axhline(0, color='red')\n",
    "plt.axvline(0, color='black')\n",
    "plt.scatter(X, Y)\n",
    "plt.show()"
   ]
  },
  {
   "cell_type": "markdown",
   "metadata": {
    "colab_type": "text",
    "id": "Y6roPZ-QAKAn"
   },
   "source": [
    "Now let's build the index on this real data. As it holds latitude and longutude, we will have `K=2`."
   ]
  },
  {
   "cell_type": "code",
   "execution_count": 13,
   "metadata": {
    "colab": {
     "base_uri": "https://localhost:8080/",
     "height": 35
    },
    "colab_type": "code",
    "id": "aEn46wTWAKAq",
    "outputId": "3252951b-ef14-4db1-f8b9-1e50d8b9eaae"
   },
   "outputs": [
    {
     "name": "stdout",
     "output_type": "stream",
     "text": [
      "Index build in 9.65 sec.\n"
     ]
    }
   ],
   "source": [
    "K_real = 2\n",
    "start = time.time()\n",
    "kdtree = Node(K=K_real).build_kd_tree(dataset)\n",
    "finish = time.time()\n",
    "print(\"Index build in {:.2f} sec.\".format(finish - start))"
   ]
  },
  {
   "cell_type": "markdown",
   "metadata": {
    "colab_type": "text",
    "id": "gXimBp4nAKAt"
   },
   "source": [
    "Check your nearest neighbours search works on real data."
   ]
  },
  {
   "cell_type": "code",
   "execution_count": 14,
   "metadata": {
    "colab": {
     "base_uri": "https://localhost:8080/",
     "height": 55
    },
    "colab_type": "code",
    "id": "Wzab39hhAKAu",
    "outputId": "b0bb1f81-84b3-4aa6-f009-f686c03c41cb"
   },
   "outputs": [
    {
     "name": "stdout",
     "output_type": "stream",
     "text": [
      "Australia, Sidney, food [([151.208053589, -33.8758888245], 'Health Plus, Food & Beverages, Specialty. AU, Sydney, Shop 10, 324 Pitt St'), ([151.205154419, -33.8717842102], 'Cabinet Corporate Hospitality The, Food & Beverages, Liquor & Beverages. AU, Sydney, 414 Kent St'), ([151.204437256, -33.8766212463], 'Uniliquor, Food & Beverages, Liquor & Beverages. AU, Sydney, 377 Sussex St'), ([151.202468872, -33.8838043213], \"McDonald's Family Restaurants, Fast Food, . AU, Broadway, 863 George St\"), ([151.223999023, -33.8751792908], 'Hunter Valley Food Services, Shopping, Stationery & Office Supplies. AU, Potts Point, 33 Bayswater Rd')]\n"
     ]
    }
   ],
   "source": [
    "paris = [2.334083, 48.853260]\n",
    "boulder = [-105.205606, 40.063987]\n",
    "sidney = [151.211122, -33.874236]\n",
    "\n",
    "neigh = kdtree.get_nn(paris, 5000)\n",
    "paris_nn = [v for v in kdtree.get_nn(paris, 5000) if 'Shop' in v[1]]\n",
    "boulder_nn = [v for v in kdtree.get_nn(boulder, 5000) if \"College\" in v[1]]\n",
    "sidney_nn = [v for v in kdtree.get_nn(sidney, 5000) if \"Food\" in v[1]]\n",
    "\n",
    "# print to check that places you found are actually in neighbourhood\n",
    "print(\"Australia, Sidney, food\", sidney_nn[:5])"
   ]
  },
  {
   "cell_type": "markdown",
   "metadata": {
    "colab_type": "text",
    "id": "sz5DmywuAKAx"
   },
   "source": [
    "Next block will draw your results on a map."
   ]
  },
  {
   "cell_type": "code",
   "execution_count": 15,
   "metadata": {
    "colab": {
     "base_uri": "https://localhost:8080/",
     "height": 388
    },
    "colab_type": "code",
    "id": "UWzqdzzMAKAy",
    "outputId": "66922113-df2b-48f4-ed02-cbcd4ab895e9"
   },
   "outputs": [
    {
     "data": {
      "image/png": "[encoded data removed]",
      "text/plain": [
       "<Figure size 720x432 with 1 Axes>"
      ]
     },
     "metadata": {
      "tags": []
     },
     "output_type": "display_data"
    }
   ],
   "source": [
    "X = [v[0][0] for v in dataset[::step]]\n",
    "Y = [v[0][1] for v in dataset[::step]]\n",
    "BX, BY = [v[0][0] for v in boulder_nn], [v[0][1] for v in boulder_nn]\n",
    "PX, PY = [v[0][0] for v in paris_nn], [v[0][1] for v in paris_nn]\n",
    "SX, SY = [v[0][0] for v in sidney_nn], [v[0][1] for v in sidney_nn]\n",
    "plt.figure(figsize=(10, 6))\n",
    "a = plt.axes()\n",
    "a.set_xlabel('longitude')\n",
    "a.set_ylabel('latitude')\n",
    "plt.axhline(0, color='black')\n",
    "plt.axvline(0, color='black')\n",
    "plt.scatter(X, Y)\n",
    "plt.scatter(BX, BY, marker=\"*\", s=50)\n",
    "plt.scatter(PX, PY, marker=\"^\", s=50, color=\"orange\")\n",
    "plt.scatter(SX, SY, marker=\"+\", s=50, color='yellow')\n",
    "plt.show()"
   ]
  },
  {
   "cell_type": "markdown",
   "metadata": {
    "colab_type": "text",
    "id": "7zmmvQOnAKA1"
   },
   "source": [
    "## 3.B. Range search ##\n",
    "Range search in kd-tree is based on the idea, that we skip branches that do not intersect search range. You can use comparison with `pivot` element to decide. Please write your code in `get_in_range()` method. It accepts 2 vector keys of lower-left and upper-right bounds.\n",
    "\n",
    "Then run 2 following blocks to see if it works. At the map it should be a region on the East coast of US."
   ]
  },
  {
   "cell_type": "code",
   "execution_count": 16,
   "metadata": {
    "colab": {
     "base_uri": "https://localhost:8080/",
     "height": 35
    },
    "colab_type": "code",
    "id": "oTnyb-dsAKA1",
    "outputId": "547ea7dd-032d-4caa-d9c2-c84c1ba241ae"
   },
   "outputs": [
    {
     "name": "stdout",
     "output_type": "stream",
     "text": [
      "Found: 15583 items\n"
     ]
    }
   ],
   "source": [
    "low, high = [-76.0, 38.0], [-72.0, 42.0]\n",
    "region = kdtree.get_in_range(low, high) \n",
    "print(\"Found: {} items\".format(len(region)))"
   ]
  },
  {
   "cell_type": "code",
   "execution_count": 17,
   "metadata": {
    "colab": {
     "base_uri": "https://localhost:8080/",
     "height": 388
    },
    "colab_type": "code",
    "id": "-VqwxgHmAKA4",
    "outputId": "99947cf3-5ece-42b9-eded-3320a48cfd83"
   },
   "outputs": [
    {
     "data": {
      "image/png": "[encoded data removed]",
      "text/plain": [
       "<Figure size 720x432 with 1 Axes>"
      ]
     },
     "metadata": {
      "tags": []
     },
     "output_type": "display_data"
    }
   ],
   "source": [
    "X = [v[0][0] for v in dataset[::step]]\n",
    "Y = [v[0][1] for v in dataset[::step]]\n",
    "RX, RY = [v[0][0] for v in region], [v[0][1] for v in region]\n",
    "plt.figure(figsize=(10, 6))\n",
    "a = plt.axes()\n",
    "a.set_xlabel('longitude')\n",
    "a.set_ylabel('latitude')\n",
    "plt.axhline(0, color='black')\n",
    "plt.axvline(0, color='black')\n",
    "plt.scatter(X, Y)\n",
    "plt.scatter(RX, RY, marker=\".\", s=50)\n",
    "plt.show()"
   ]
  },
  {
   "cell_type": "markdown",
   "metadata": {
    "colab_type": "text",
    "id": "xkNcxJFgAKA7"
   },
   "source": [
    "## 4. Bonus Task. Open questions ##\n",
    "Change your code to answer:\n",
    "1. How `K` parameter influences kd-tree search speed?\n",
    "2. How `K` parameter influences Annoy search speed?\n",
    "3. How branch split technique (pivot selection) influence tree depth?\n",
    "4. How range size and `K` parameter influence range search in kd-tree?\n",
    "\n",
    "Summarize your findings below.\n"
   ]
  },
  {
   "cell_type": "code",
   "execution_count": 0,
   "metadata": {
    "colab": {},
    "colab_type": "code",
    "id": "i73QdHcN7Gl2"
   },
   "outputs": [],
   "source": [
    "def generate_data(k, maxsize=50000):\n",
    "  R = np.random.rand(maxsize, k)\n",
    "  return [(row, \"stub value {}\".format(i)) for i, row in enumerate(R)]"
   ]
  },
  {
   "cell_type": "markdown",
   "metadata": {
    "colab_type": "text",
    "id": "KV5vIB769gAb"
   },
   "source": [
    "### 1. How K parameter influences kd-tree search speed?\n",
    "\n",
    "On average K does not have tendency to increase the search time."
   ]
  },
  {
   "cell_type": "code",
   "execution_count": 19,
   "metadata": {
    "colab": {
     "base_uri": "https://localhost:8080/",
     "height": 453,
     "referenced_widgets": [
      "dd35dd8178a346409d176ffb53a944a8",
      "1d244712566d4a53ab60bf48bf9a8cb9",
      "5a91073c115b40b88c955c5ced883cf5",
      "e385b6bcfbb24039b83817485697f957",
      "90322dee5edd4220a7f8a70f01fc1b80",
      "25ee00527c42438da45552f53c132b85",
      "9284873fc32a46ab83f814a26bcbe4ad",
      "7e76c665a2c34423ad1c38c316acade9"
     ]
    },
    "colab_type": "code",
    "id": "-hMyeu6d8imw",
    "outputId": "992d8eb8-4d5d-46c2-d8a4-93dc9521ee72"
   },
   "outputs": [
    {
     "data": {
      "application/vnd.jupyter.widget-view+json": {
       "model_id": "dd35dd8178a346409d176ffb53a944a8",
       "version_major": 2,
       "version_minor": 0
      },
      "text/plain": [
       "HBox(children=(IntProgress(value=0, max=20), HTML(value='')))"
      ]
     },
     "metadata": {
      "tags": []
     },
     "output_type": "display_data"
    },
    {
     "name": "stdout",
     "output_type": "stream",
     "text": [
      "\n"
     ]
    },
    {
     "data": {
      "image/png": "[encoded data removed]",
      "text/plain": [
       "<Figure size 720x432 with 1 Axes>"
      ]
     },
     "metadata": {
      "tags": []
     },
     "output_type": "display_data"
    }
   ],
   "source": [
    "step = 3\n",
    "sizes, build_times = [], []\n",
    "iterations = 50\n",
    "nn = 100\n",
    "\n",
    "for K in tqdm_notebook(range(2, 60, step)):\n",
    "    sample = generate_data(K)\n",
    "    kdtree = Node(K=K).build_kd_tree(sample)\n",
    "    start = time.time()\n",
    "    # measure average search time for items\n",
    "    for t in range(iterations):\n",
    "      x = sample[t]\n",
    "      kdtree.get_nn(x[0], nn)\n",
    "    finish = time.time()\n",
    "    sizes.append(K)\n",
    "    build_times.append((finish - start) * 1000)\n",
    "\n",
    "    \n",
    "    \n",
    "fig = plt.figure(figsize=(10, 6))\n",
    "a = plt.axes()\n",
    "a.set_xlabel('K')\n",
    "a.set_ylabel('time, ms')\n",
    "plt.plot(sizes, build_times)\n",
    "plt.title(\"KD-tree search speed\")\n",
    "plt.show()"
   ]
  },
  {
   "cell_type": "markdown",
   "metadata": {
    "colab_type": "text",
    "id": "ETOwifGr94co"
   },
   "source": [
    "### 2. How K parameter influences Annoy search speed?\n",
    "\n",
    "As in case with kdtree, on average K does not have tendency to increase the search time."
   ]
  },
  {
   "cell_type": "code",
   "execution_count": 20,
   "metadata": {
    "colab": {
     "base_uri": "https://localhost:8080/",
     "height": 453,
     "referenced_widgets": [
      "a29813b694fc49bea7293dc625e6873f",
      "0a245eb834394e6592f68738d4f7a986",
      "8189fcc0dae342dd935752ea61eb8bed",
      "744805b3fb78493782fa72434363f6c2",
      "b9e54d1aec8b4e4db522965b7bb01a39",
      "1ab7fb30e3664aa1aba7890992e89fd0",
      "159a15930e4941199c6c66a55e86b4ea",
      "064e3c00dfab451fa9d816b2574b80ed"
     ]
    },
    "colab_type": "code",
    "id": "VZepa59f93eJ",
    "outputId": "2673ac9f-336d-4884-dd12-15e8a5df8157"
   },
   "outputs": [
    {
     "data": {
      "application/vnd.jupyter.widget-view+json": {
       "model_id": "a29813b694fc49bea7293dc625e6873f",
       "version_major": 2,
       "version_minor": 0
      },
      "text/plain": [
       "HBox(children=(IntProgress(value=0, max=20), HTML(value='')))"
      ]
     },
     "metadata": {
      "tags": []
     },
     "output_type": "display_data"
    },
    {
     "name": "stdout",
     "output_type": "stream",
     "text": [
      "\n"
     ]
    },
    {
     "data": {
      "image/png": "[encoded data removed]",
      "text/plain": [
       "<Figure size 720x432 with 1 Axes>"
      ]
     },
     "metadata": {
      "tags": []
     },
     "output_type": "display_data"
    }
   ],
   "source": [
    "# NN SEARCH\n",
    "sizes, times_annoy = [], []\n",
    "iterations = 50\n",
    "nn = 100\n",
    "\n",
    "for K in tqdm_notebook(range(2, 60, step)):\n",
    "    sample = generate_data(K)\n",
    "    index = AnnoyIndex(K, 'euclidean')\n",
    "    for i, row in enumerate(sample):\n",
    "        index.add_item(i, row[0])\n",
    "    index.build(10)\n",
    "\n",
    "    start = time.time()\n",
    "    # measure average search time\n",
    "    for t in range(iterations):\n",
    "      x = sample[t]\n",
    "      index.get_nns_by_vector(x[0], nn)\n",
    "    finish = time.time()\n",
    "    sizes.append(K)\n",
    "    times_annoy.append((finish - start) * 1000 / iterations)\n",
    "\n",
    "fig = plt.figure(figsize=(10, 6))\n",
    "a = plt.axes()\n",
    "a.set_xlabel('K')\n",
    "a.set_ylabel('time, ms')\n",
    "plt.plot(sizes, times_annoy)\n",
    "plt.title(\"Annoy. K search speed\")\n",
    "plt.show()"
   ]
  },
  {
   "cell_type": "markdown",
   "metadata": {
    "colab_type": "text",
    "id": "pFiNKPaoSP2n"
   },
   "source": [
    "### 3. How branch split technique (pivot selection) influence tree depth?"
   ]
  },
  {
   "cell_type": "code",
   "execution_count": 21,
   "metadata": {
    "colab": {
     "base_uri": "https://localhost:8080/",
     "height": 52
    },
    "colab_type": "code",
    "id": "NKs3pE4ZSR46",
    "outputId": "c3a67479-7932-48cb-b98e-bcea34e0f33c"
   },
   "outputs": [
    {
     "name": "stdout",
     "output_type": "stream",
     "text": [
      "depth of kd tree 15\n"
     ]
    },
    {
     "data": {
      "text/plain": [
       "True"
      ]
     },
     "execution_count": 21,
     "metadata": {
      "tags": []
     },
     "output_type": "execute_result"
    }
   ],
   "source": [
    "# check kd tree depth and annoy trees depth for same data\n",
    "def get_kd_depth(node):\n",
    "  if node.items is not None:\n",
    "    return [node.depth]\n",
    "  else:\n",
    "    return get_kd_depth(node.left)+get_kd_depth(node.right)\n",
    "\n",
    "K=10\n",
    "sample = generate_data(K)\n",
    "kdtree = Node(K=K).build_kd_tree(sample)\n",
    "depths = get_kd_depth(kdtree)\n",
    "print(f'depth of kd tree {np.max(depths)}')\n",
    "\n",
    "index = AnnoyIndex(K, 'euclidean')\n",
    "for i, row in enumerate(sample):\n",
    "    index.add_item(i, row[0])\n",
    "index.build(5)"
   ]
  },
  {
   "cell_type": "markdown",
   "metadata": {
    "colab_type": "text",
    "id": "KFiRJcwiCn9y"
   },
   "source": [
    "### 4. How range size and K parameter influence range search in kd-tree?\n",
    "\n",
    "As for range size, as we increse the range the more time it takes to fine the neighbours, hence if the range is small in can not even look for some subtrees because of pivot value comparison.\n",
    "\n",
    "The higher K we use the more time is required for range search."
   ]
  },
  {
   "cell_type": "code",
   "execution_count": 22,
   "metadata": {
    "colab": {
     "base_uri": "https://localhost:8080/",
     "height": 841,
     "referenced_widgets": [
      "2bf6f70059ef4734b84128f1d8fc6ec3",
      "35daf2bf328b4d0bb5f746230ec69910",
      "d7013d1db28348079a5452d9b8891244",
      "3e83f2fa344d4fa2b94f4bedf0b630de",
      "c9a26d0711784f5db7fab7851c784305",
      "02fdfc5f13f84451946a5f7e467b817c",
      "521005a8918443a8bf93aebbf7598c43",
      "28089ab0cf84488da3c7ecb230c3532d"
     ]
    },
    "colab_type": "code",
    "id": "COXX3F8PCogV",
    "outputId": "1344e10e-40cc-49cd-f896-ca973f5966c5"
   },
   "outputs": [
    {
     "data": {
      "image/png": "[encoded data removed]",
      "text/plain": [
       "<Figure size 720x432 with 1 Axes>"
      ]
     },
     "metadata": {
      "tags": []
     },
     "output_type": "display_data"
    },
    {
     "data": {
      "application/vnd.jupyter.widget-view+json": {
       "model_id": "2bf6f70059ef4734b84128f1d8fc6ec3",
       "version_major": 2,
       "version_minor": 0
      },
      "text/plain": [
       "HBox(children=(IntProgress(value=0, max=20), HTML(value='')))"
      ]
     },
     "metadata": {
      "tags": []
     },
     "output_type": "display_data"
    },
    {
     "name": "stdout",
     "output_type": "stream",
     "text": [
      "\n"
     ]
    },
    {
     "data": {
      "image/png": "[encoded data removed]",
      "text/plain": [
       "<Figure size 720x432 with 1 Axes>"
      ]
     },
     "metadata": {
      "tags": []
     },
     "output_type": "display_data"
    }
   ],
   "source": [
    "# first for range size in 1d case\n",
    "K=1\n",
    "sample = generate_data(K)\n",
    "kdtree = Node(K=K).build_kd_tree(sample)\n",
    "# find lower and higher in the data\n",
    "low, high = 100, -100\n",
    "for s in sample:\n",
    "  if s[0][0]<low:\n",
    "    low = s[0][0]\n",
    "  elif s[0][0]>low: \n",
    "    high = s[0][0]\n",
    "step = (high-low)/100\n",
    "range_size, times = [], []\n",
    "start_range = low\n",
    "while start_range<=high:\n",
    "  start_range+=step\n",
    "  start = time.time()\n",
    "  region = kdtree.get_in_range([low], [start_range]) \n",
    "  finish = time.time()\n",
    "  range_size.append(start_range-low)\n",
    "  times.append(finish-start)\n",
    "\n",
    "fig = plt.figure(figsize=(10, 6))\n",
    "a = plt.axes()\n",
    "a.set_xlabel('range size')\n",
    "a.set_ylabel('time, ms')\n",
    "plt.plot(range_size, times)\n",
    "plt.title(\"Range search. Range size influence\")\n",
    "plt.show()\n",
    "\n",
    "# then for K parameter\n",
    "step = 3\n",
    "sizes, times = [], []\n",
    "for K in tqdm_notebook(range(2, 60, step)):\n",
    "    sample = generate_data(K)\n",
    "    kdtree = Node(K=K).build_kd_tree(sample)\n",
    "    low, high = np.zeros(K)+100, np.zeros(K)-100\n",
    "    for s in sample:\n",
    "      for i in range(K):\n",
    "        if s[0][i]<low[i]:\n",
    "          low[i] = s[0][i]\n",
    "        elif s[0][i]>high[i]:\n",
    "          high[i] = s[0][i]\n",
    "    start = time.time()\n",
    "    # measure average search time for items\n",
    "    region = kdtree.get_in_range(low, high)\n",
    "    finish = time.time()\n",
    "    sizes.append(K)\n",
    "    times.append((finish - start) * 1000)\n",
    "\n",
    "fig = plt.figure(figsize=(10, 6))\n",
    "a = plt.axes()\n",
    "a.set_xlabel('K')\n",
    "a.set_ylabel('time, ms')\n",
    "plt.plot(sizes, times)\n",
    "plt.title(\"Range search. K influence\")\n",
    "plt.show()"
   ]
  }
 ],
 "metadata": {
  "colab": {
   "name": "ApproxNNSearch_trees_template.ipynb",
   "provenance": []
  },
  "kernelspec": {
   "display_name": "Python 3",
   "language": "python",
   "name": "python3"
  },
  "language_info": {
   "codemirror_mode": {
    "name": "ipython",
    "version": 3
   },
   "file_extension": ".py",
   "mimetype": "text/x-python",
   "name": "python",
   "nbconvert_exporter": "python",
   "pygments_lexer": "ipython3",
   "version": "3.6.8"
  },
  "widgets": {
   "application/vnd.jupyter.widget-state+json": {
    "02fdfc5f13f84451946a5f7e467b817c": {
     "model_module": "@jupyter-widgets/base",
     "model_name": "LayoutModel",
     "state": {
      "_model_module": "@jupyter-widgets/base",
      "_model_module_version": "1.2.0",
      "_model_name": "LayoutModel",
      "_view_count": null,
      "_view_module": "@jupyter-widgets/base",
      "_view_module_version": "1.2.0",
      "_view_name": "LayoutView",
      "align_content": null,
      "align_items": null,
      "align_self": null,
      "border": null,
      "bottom": null,
      "display": null,
      "flex": null,
      "flex_flow": null,
      "grid_area": null,
      "grid_auto_columns": null,
      "grid_auto_flow": null,
      "grid_auto_rows": null,
      "grid_column": null,
      "grid_gap": null,
      "grid_row": null,
      "grid_template_areas": null,
      "grid_template_columns": null,
      "grid_template_rows": null,
      "height": null,
      "justify_content": null,
      "justify_items": null,
      "left": null,
      "margin": null,
      "max_height": null,
      "max_width": null,
      "min_height": null,
      "min_width": null,
      "object_fit": null,
      "object_position": null,
      "order": null,
      "overflow": null,
      "overflow_x": null,
      "overflow_y": null,
      "padding": null,
      "right": null,
      "top": null,
      "visibility": null,
      "width": null
     }
    },
    "064e3c00dfab451fa9d816b2574b80ed": {
     "model_module": "@jupyter-widgets/base",
     "model_name": "LayoutModel",
     "state": {
      "_model_module": "@jupyter-widgets/base",
      "_model_module_version": "1.2.0",
      "_model_name": "LayoutModel",
      "_view_count": null,
      "_view_module": "@jupyter-widgets/base",
      "_view_module_version": "1.2.0",
      "_view_name": "LayoutView",
      "align_content": null,
      "align_items": null,
      "align_self": null,
      "border": null,
      "bottom": null,
      "display": null,
      "flex": null,
      "flex_flow": null,
      "grid_area": null,
      "grid_auto_columns": null,
      "grid_auto_flow": null,
      "grid_auto_rows": null,
      "grid_column": null,
      "grid_gap": null,
      "grid_row": null,
      "grid_template_areas": null,
      "grid_template_columns": null,
      "grid_template_rows": null,
      "height": null,
      "justify_content": null,
      "justify_items": null,
      "left": null,
      "margin": null,
      "max_height": null,
      "max_width": null,
      "min_height": null,
      "min_width": null,
      "object_fit": null,
      "object_position": null,
      "order": null,
      "overflow": null,
      "overflow_x": null,
      "overflow_y": null,
      "padding": null,
      "right": null,
      "top": null,
      "visibility": null,
      "width": null
     }
    },
    "0a245eb834394e6592f68738d4f7a986": {
     "model_module": "@jupyter-widgets/base",
     "model_name": "LayoutModel",
     "state": {
      "_model_module": "@jupyter-widgets/base",
      "_model_module_version": "1.2.0",
      "_model_name": "LayoutModel",
      "_view_count": null,
      "_view_module": "@jupyter-widgets/base",
      "_view_module_version": "1.2.0",
      "_view_name": "LayoutView",
      "align_content": null,
      "align_items": null,
      "align_self": null,
      "border": null,
      "bottom": null,
      "display": null,
      "flex": null,
      "flex_flow": null,
      "grid_area": null,
      "grid_auto_columns": null,
      "grid_auto_flow": null,
      "grid_auto_rows": null,
      "grid_column": null,
      "grid_gap": null,
      "grid_row": null,
      "grid_template_areas": null,
      "grid_template_columns": null,
      "grid_template_rows": null,
      "height": null,
      "justify_content": null,
      "justify_items": null,
      "left": null,
      "margin": null,
      "max_height": null,
      "max_width": null,
      "min_height": null,
      "min_width": null,
      "object_fit": null,
      "object_position": null,
      "order": null,
      "overflow": null,
      "overflow_x": null,
      "overflow_y": null,
      "padding": null,
      "right": null,
      "top": null,
      "visibility": null,
      "width": null
     }
    },
    "0f2d442ec55e424a845ed59912b60d37": {
     "model_module": "@jupyter-widgets/controls",
     "model_name": "HTMLModel",
     "state": {
      "_dom_classes": [],
      "_model_module": "@jupyter-widgets/controls",
      "_model_module_version": "1.5.0",
      "_model_name": "HTMLModel",
      "_view_count": null,
      "_view_module": "@jupyter-widgets/controls",
      "_view_module_version": "1.5.0",
      "_view_name": "HTMLView",
      "description": "",
      "description_tooltip": null,
      "layout": "IPY_MODEL_77d874261ead43f8987c71538b082677",
      "placeholder": "​",
      "style": "IPY_MODEL_19828e9b60564ac29a2b019b36e1a1e2",
      "value": "100% 6/6 [00:01&lt;00:00,  2.45it/s]"
     }
    },
    "159a15930e4941199c6c66a55e86b4ea": {
     "model_module": "@jupyter-widgets/controls",
     "model_name": "DescriptionStyleModel",
     "state": {
      "_model_module": "@jupyter-widgets/controls",
      "_model_module_version": "1.5.0",
      "_model_name": "DescriptionStyleModel",
      "_view_count": null,
      "_view_module": "@jupyter-widgets/base",
      "_view_module_version": "1.2.0",
      "_view_name": "StyleView",
      "description_width": ""
     }
    },
    "19828e9b60564ac29a2b019b36e1a1e2": {
     "model_module": "@jupyter-widgets/controls",
     "model_name": "DescriptionStyleModel",
     "state": {
      "_model_module": "@jupyter-widgets/controls",
      "_model_module_version": "1.5.0",
      "_model_name": "DescriptionStyleModel",
      "_view_count": null,
      "_view_module": "@jupyter-widgets/base",
      "_view_module_version": "1.2.0",
      "_view_name": "StyleView",
      "description_width": ""
     }
    },
    "1ab7fb30e3664aa1aba7890992e89fd0": {
     "model_module": "@jupyter-widgets/base",
     "model_name": "LayoutModel",
     "state": {
      "_model_module": "@jupyter-widgets/base",
      "_model_module_version": "1.2.0",
      "_model_name": "LayoutModel",
      "_view_count": null,
      "_view_module": "@jupyter-widgets/base",
      "_view_module_version": "1.2.0",
      "_view_name": "LayoutView",
      "align_content": null,
      "align_items": null,
      "align_self": null,
      "border": null,
      "bottom": null,
      "display": null,
      "flex": null,
      "flex_flow": null,
      "grid_area": null,
      "grid_auto_columns": null,
      "grid_auto_flow": null,
      "grid_auto_rows": null,
      "grid_column": null,
      "grid_gap": null,
      "grid_row": null,
      "grid_template_areas": null,
      "grid_template_columns": null,
      "grid_template_rows": null,
      "height": null,
      "justify_content": null,
      "justify_items": null,
      "left": null,
      "margin": null,
      "max_height": null,
      "max_width": null,
      "min_height": null,
      "min_width": null,
      "object_fit": null,
      "object_position": null,
      "order": null,
      "overflow": null,
      "overflow_x": null,
      "overflow_y": null,
      "padding": null,
      "right": null,
      "top": null,
      "visibility": null,
      "width": null
     }
    },
    "1b46775e10d44c91ad6018664236a37e": {
     "model_module": "@jupyter-widgets/controls",
     "model_name": "DescriptionStyleModel",
     "state": {
      "_model_module": "@jupyter-widgets/controls",
      "_model_module_version": "1.5.0",
      "_model_name": "DescriptionStyleModel",
      "_view_count": null,
      "_view_module": "@jupyter-widgets/base",
      "_view_module_version": "1.2.0",
      "_view_name": "StyleView",
      "description_width": ""
     }
    },
    "1d244712566d4a53ab60bf48bf9a8cb9": {
     "model_module": "@jupyter-widgets/base",
     "model_name": "LayoutModel",
     "state": {
      "_model_module": "@jupyter-widgets/base",
      "_model_module_version": "1.2.0",
      "_model_name": "LayoutModel",
      "_view_count": null,
      "_view_module": "@jupyter-widgets/base",
      "_view_module_version": "1.2.0",
      "_view_name": "LayoutView",
      "align_content": null,
      "align_items": null,
      "align_self": null,
      "border": null,
      "bottom": null,
      "display": null,
      "flex": null,
      "flex_flow": null,
      "grid_area": null,
      "grid_auto_columns": null,
      "grid_auto_flow": null,
      "grid_auto_rows": null,
      "grid_column": null,
      "grid_gap": null,
      "grid_row": null,
      "grid_template_areas": null,
      "grid_template_columns": null,
      "grid_template_rows": null,
      "height": null,
      "justify_content": null,
      "justify_items": null,
      "left": null,
      "margin": null,
      "max_height": null,
      "max_width": null,
      "min_height": null,
      "min_width": null,
      "object_fit": null,
      "object_position": null,
      "order": null,
      "overflow": null,
      "overflow_x": null,
      "overflow_y": null,
      "padding": null,
      "right": null,
      "top": null,
      "visibility": null,
      "width": null
     }
    },
    "21b81c8516bf4ab5a8ab57667e590fd4": {
     "model_module": "@jupyter-widgets/base",
     "model_name": "LayoutModel",
     "state": {
      "_model_module": "@jupyter-widgets/base",
      "_model_module_version": "1.2.0",
      "_model_name": "LayoutModel",
      "_view_count": null,
      "_view_module": "@jupyter-widgets/base",
      "_view_module_version": "1.2.0",
      "_view_name": "LayoutView",
      "align_content": null,
      "align_items": null,
      "align_self": null,
      "border": null,
      "bottom": null,
      "display": null,
      "flex": null,
      "flex_flow": null,
      "grid_area": null,
      "grid_auto_columns": null,
      "grid_auto_flow": null,
      "grid_auto_rows": null,
      "grid_column": null,
      "grid_gap": null,
      "grid_row": null,
      "grid_template_areas": null,
      "grid_template_columns": null,
      "grid_template_rows": null,
      "height": null,
      "justify_content": null,
      "justify_items": null,
      "left": null,
      "margin": null,
      "max_height": null,
      "max_width": null,
      "min_height": null,
      "min_width": null,
      "object_fit": null,
      "object_position": null,
      "order": null,
      "overflow": null,
      "overflow_x": null,
      "overflow_y": null,
      "padding": null,
      "right": null,
      "top": null,
      "visibility": null,
      "width": null
     }
    },
    "235a565f2a6d450eaffea8da8955e88b": {
     "model_module": "@jupyter-widgets/base",
     "model_name": "LayoutModel",
     "state": {
      "_model_module": "@jupyter-widgets/base",
      "_model_module_version": "1.2.0",
      "_model_name": "LayoutModel",
      "_view_count": null,
      "_view_module": "@jupyter-widgets/base",
      "_view_module_version": "1.2.0",
      "_view_name": "LayoutView",
      "align_content": null,
      "align_items": null,
      "align_self": null,
      "border": null,
      "bottom": null,
      "display": null,
      "flex": null,
      "flex_flow": null,
      "grid_area": null,
      "grid_auto_columns": null,
      "grid_auto_flow": null,
      "grid_auto_rows": null,
      "grid_column": null,
      "grid_gap": null,
      "grid_row": null,
      "grid_template_areas": null,
      "grid_template_columns": null,
      "grid_template_rows": null,
      "height": null,
      "justify_content": null,
      "justify_items": null,
      "left": null,
      "margin": null,
      "max_height": null,
      "max_width": null,
      "min_height": null,
      "min_width": null,
      "object_fit": null,
      "object_position": null,
      "order": null,
      "overflow": null,
      "overflow_x": null,
      "overflow_y": null,
      "padding": null,
      "right": null,
      "top": null,
      "visibility": null,
      "width": null
     }
    },
    "25ee00527c42438da45552f53c132b85": {
     "model_module": "@jupyter-widgets/base",
     "model_name": "LayoutModel",
     "state": {
      "_model_module": "@jupyter-widgets/base",
      "_model_module_version": "1.2.0",
      "_model_name": "LayoutModel",
      "_view_count": null,
      "_view_module": "@jupyter-widgets/base",
      "_view_module_version": "1.2.0",
      "_view_name": "LayoutView",
      "align_content": null,
      "align_items": null,
      "align_self": null,
      "border": null,
      "bottom": null,
      "display": null,
      "flex": null,
      "flex_flow": null,
      "grid_area": null,
      "grid_auto_columns": null,
      "grid_auto_flow": null,
      "grid_auto_rows": null,
      "grid_column": null,
      "grid_gap": null,
      "grid_row": null,
      "grid_template_areas": null,
      "grid_template_columns": null,
      "grid_template_rows": null,
      "height": null,
      "justify_content": null,
      "justify_items": null,
      "left": null,
      "margin": null,
      "max_height": null,
      "max_width": null,
      "min_height": null,
      "min_width": null,
      "object_fit": null,
      "object_position": null,
      "order": null,
      "overflow": null,
      "overflow_x": null,
      "overflow_y": null,
      "padding": null,
      "right": null,
      "top": null,
      "visibility": null,
      "width": null
     }
    },
    "28089ab0cf84488da3c7ecb230c3532d": {
     "model_module": "@jupyter-widgets/base",
     "model_name": "LayoutModel",
     "state": {
      "_model_module": "@jupyter-widgets/base",
      "_model_module_version": "1.2.0",
      "_model_name": "LayoutModel",
      "_view_count": null,
      "_view_module": "@jupyter-widgets/base",
      "_view_module_version": "1.2.0",
      "_view_name": "LayoutView",
      "align_content": null,
      "align_items": null,
      "align_self": null,
      "border": null,
      "bottom": null,
      "display": null,
      "flex": null,
      "flex_flow": null,
      "grid_area": null,
      "grid_auto_columns": null,
      "grid_auto_flow": null,
      "grid_auto_rows": null,
      "grid_column": null,
      "grid_gap": null,
      "grid_row": null,
      "grid_template_areas": null,
      "grid_template_columns": null,
      "grid_template_rows": null,
      "height": null,
      "justify_content": null,
      "justify_items": null,
      "left": null,
      "margin": null,
      "max_height": null,
      "max_width": null,
      "min_height": null,
      "min_width": null,
      "object_fit": null,
      "object_position": null,
      "order": null,
      "overflow": null,
      "overflow_x": null,
      "overflow_y": null,
      "padding": null,
      "right": null,
      "top": null,
      "visibility": null,
      "width": null
     }
    },
    "2bf6f70059ef4734b84128f1d8fc6ec3": {
     "model_module": "@jupyter-widgets/controls",
     "model_name": "HBoxModel",
     "state": {
      "_dom_classes": [],
      "_model_module": "@jupyter-widgets/controls",
      "_model_module_version": "1.5.0",
      "_model_name": "HBoxModel",
      "_view_count": null,
      "_view_module": "@jupyter-widgets/controls",
      "_view_module_version": "1.5.0",
      "_view_name": "HBoxView",
      "box_style": "",
      "children": [
       "IPY_MODEL_d7013d1db28348079a5452d9b8891244",
       "IPY_MODEL_3e83f2fa344d4fa2b94f4bedf0b630de"
      ],
      "layout": "IPY_MODEL_35daf2bf328b4d0bb5f746230ec69910"
     }
    },
    "2d62a3ac6d344a5b9fe2e45aeb722048": {
     "model_module": "@jupyter-widgets/base",
     "model_name": "LayoutModel",
     "state": {
      "_model_module": "@jupyter-widgets/base",
      "_model_module_version": "1.2.0",
      "_model_name": "LayoutModel",
      "_view_count": null,
      "_view_module": "@jupyter-widgets/base",
      "_view_module_version": "1.2.0",
      "_view_name": "LayoutView",
      "align_content": null,
      "align_items": null,
      "align_self": null,
      "border": null,
      "bottom": null,
      "display": null,
      "flex": null,
      "flex_flow": null,
      "grid_area": null,
      "grid_auto_columns": null,
      "grid_auto_flow": null,
      "grid_auto_rows": null,
      "grid_column": null,
      "grid_gap": null,
      "grid_row": null,
      "grid_template_areas": null,
      "grid_template_columns": null,
      "grid_template_rows": null,
      "height": null,
      "justify_content": null,
      "justify_items": null,
      "left": null,
      "margin": null,
      "max_height": null,
      "max_width": null,
      "min_height": null,
      "min_width": null,
      "object_fit": null,
      "object_position": null,
      "order": null,
      "overflow": null,
      "overflow_x": null,
      "overflow_y": null,
      "padding": null,
      "right": null,
      "top": null,
      "visibility": null,
      "width": null
     }
    },
    "35daf2bf328b4d0bb5f746230ec69910": {
     "model_module": "@jupyter-widgets/base",
     "model_name": "LayoutModel",
     "state": {
      "_model_module": "@jupyter-widgets/base",
      "_model_module_version": "1.2.0",
      "_model_name": "LayoutModel",
      "_view_count": null,
      "_view_module": "@jupyter-widgets/base",
      "_view_module_version": "1.2.0",
      "_view_name": "LayoutView",
      "align_content": null,
      "align_items": null,
      "align_self": null,
      "border": null,
      "bottom": null,
      "display": null,
      "flex": null,
      "flex_flow": null,
      "grid_area": null,
      "grid_auto_columns": null,
      "grid_auto_flow": null,
      "grid_auto_rows": null,
      "grid_column": null,
      "grid_gap": null,
      "grid_row": null,
      "grid_template_areas": null,
      "grid_template_columns": null,
      "grid_template_rows": null,
      "height": null,
      "justify_content": null,
      "justify_items": null,
      "left": null,
      "margin": null,
      "max_height": null,
      "max_width": null,
      "min_height": null,
      "min_width": null,
      "object_fit": null,
      "object_position": null,
      "order": null,
      "overflow": null,
      "overflow_x": null,
      "overflow_y": null,
      "padding": null,
      "right": null,
      "top": null,
      "visibility": null,
      "width": null
     }
    },
    "3813883de53b46828c6d22122089fc32": {
     "model_module": "@jupyter-widgets/base",
     "model_name": "LayoutModel",
     "state": {
      "_model_module": "@jupyter-widgets/base",
      "_model_module_version": "1.2.0",
      "_model_name": "LayoutModel",
      "_view_count": null,
      "_view_module": "@jupyter-widgets/base",
      "_view_module_version": "1.2.0",
      "_view_name": "LayoutView",
      "align_content": null,
      "align_items": null,
      "align_self": null,
      "border": null,
      "bottom": null,
      "display": null,
      "flex": null,
      "flex_flow": null,
      "grid_area": null,
      "grid_auto_columns": null,
      "grid_auto_flow": null,
      "grid_auto_rows": null,
      "grid_column": null,
      "grid_gap": null,
      "grid_row": null,
      "grid_template_areas": null,
      "grid_template_columns": null,
      "grid_template_rows": null,
      "height": null,
      "justify_content": null,
      "justify_items": null,
      "left": null,
      "margin": null,
      "max_height": null,
      "max_width": null,
      "min_height": null,
      "min_width": null,
      "object_fit": null,
      "object_position": null,
      "order": null,
      "overflow": null,
      "overflow_x": null,
      "overflow_y": null,
      "padding": null,
      "right": null,
      "top": null,
      "visibility": null,
      "width": null
     }
    },
    "3b85187f9bd04f38a978ba7473e69466": {
     "model_module": "@jupyter-widgets/controls",
     "model_name": "IntProgressModel",
     "state": {
      "_dom_classes": [],
      "_model_module": "@jupyter-widgets/controls",
      "_model_module_version": "1.5.0",
      "_model_name": "IntProgressModel",
      "_view_count": null,
      "_view_module": "@jupyter-widgets/controls",
      "_view_module_version": "1.5.0",
      "_view_name": "ProgressView",
      "bar_style": "success",
      "description": "",
      "description_tooltip": null,
      "layout": "IPY_MODEL_235a565f2a6d450eaffea8da8955e88b",
      "max": 6,
      "min": 0,
      "orientation": "horizontal",
      "style": "IPY_MODEL_8e2f0f3c6fbb4b12906df61fd3e6e6da",
      "value": 6
     }
    },
    "3e83f2fa344d4fa2b94f4bedf0b630de": {
     "model_module": "@jupyter-widgets/controls",
     "model_name": "HTMLModel",
     "state": {
      "_dom_classes": [],
      "_model_module": "@jupyter-widgets/controls",
      "_model_module_version": "1.5.0",
      "_model_name": "HTMLModel",
      "_view_count": null,
      "_view_module": "@jupyter-widgets/controls",
      "_view_module_version": "1.5.0",
      "_view_name": "HTMLView",
      "description": "",
      "description_tooltip": null,
      "layout": "IPY_MODEL_28089ab0cf84488da3c7ecb230c3532d",
      "placeholder": "​",
      "style": "IPY_MODEL_521005a8918443a8bf93aebbf7598c43",
      "value": "100% 20/20 [01:58&lt;00:00,  9.03s/it]"
     }
    },
    "47204d48907e4c9fbdce702ab0eb62c5": {
     "model_module": "@jupyter-widgets/base",
     "model_name": "LayoutModel",
     "state": {
      "_model_module": "@jupyter-widgets/base",
      "_model_module_version": "1.2.0",
      "_model_name": "LayoutModel",
      "_view_count": null,
      "_view_module": "@jupyter-widgets/base",
      "_view_module_version": "1.2.0",
      "_view_name": "LayoutView",
      "align_content": null,
      "align_items": null,
      "align_self": null,
      "border": null,
      "bottom": null,
      "display": null,
      "flex": null,
      "flex_flow": null,
      "grid_area": null,
      "grid_auto_columns": null,
      "grid_auto_flow": null,
      "grid_auto_rows": null,
      "grid_column": null,
      "grid_gap": null,
      "grid_row": null,
      "grid_template_areas": null,
      "grid_template_columns": null,
      "grid_template_rows": null,
      "height": null,
      "justify_content": null,
      "justify_items": null,
      "left": null,
      "margin": null,
      "max_height": null,
      "max_width": null,
      "min_height": null,
      "min_width": null,
      "object_fit": null,
      "object_position": null,
      "order": null,
      "overflow": null,
      "overflow_x": null,
      "overflow_y": null,
      "padding": null,
      "right": null,
      "top": null,
      "visibility": null,
      "width": null
     }
    },
    "47ce2bfec0fb41f3befd43740f633710": {
     "model_module": "@jupyter-widgets/base",
     "model_name": "LayoutModel",
     "state": {
      "_model_module": "@jupyter-widgets/base",
      "_model_module_version": "1.2.0",
      "_model_name": "LayoutModel",
      "_view_count": null,
      "_view_module": "@jupyter-widgets/base",
      "_view_module_version": "1.2.0",
      "_view_name": "LayoutView",
      "align_content": null,
      "align_items": null,
      "align_self": null,
      "border": null,
      "bottom": null,
      "display": null,
      "flex": null,
      "flex_flow": null,
      "grid_area": null,
      "grid_auto_columns": null,
      "grid_auto_flow": null,
      "grid_auto_rows": null,
      "grid_column": null,
      "grid_gap": null,
      "grid_row": null,
      "grid_template_areas": null,
      "grid_template_columns": null,
      "grid_template_rows": null,
      "height": null,
      "justify_content": null,
      "justify_items": null,
      "left": null,
      "margin": null,
      "max_height": null,
      "max_width": null,
      "min_height": null,
      "min_width": null,
      "object_fit": null,
      "object_position": null,
      "order": null,
      "overflow": null,
      "overflow_x": null,
      "overflow_y": null,
      "padding": null,
      "right": null,
      "top": null,
      "visibility": null,
      "width": null
     }
    },
    "521005a8918443a8bf93aebbf7598c43": {
     "model_module": "@jupyter-widgets/controls",
     "model_name": "DescriptionStyleModel",
     "state": {
      "_model_module": "@jupyter-widgets/controls",
      "_model_module_version": "1.5.0",
      "_model_name": "DescriptionStyleModel",
      "_view_count": null,
      "_view_module": "@jupyter-widgets/base",
      "_view_module_version": "1.2.0",
      "_view_name": "StyleView",
      "description_width": ""
     }
    },
    "577e4fe7422d40ada604ed7e274311cf": {
     "model_module": "@jupyter-widgets/controls",
     "model_name": "IntProgressModel",
     "state": {
      "_dom_classes": [],
      "_model_module": "@jupyter-widgets/controls",
      "_model_module_version": "1.5.0",
      "_model_name": "IntProgressModel",
      "_view_count": null,
      "_view_module": "@jupyter-widgets/controls",
      "_view_module_version": "1.5.0",
      "_view_name": "ProgressView",
      "bar_style": "success",
      "description": "",
      "description_tooltip": null,
      "layout": "IPY_MODEL_47ce2bfec0fb41f3befd43740f633710",
      "max": 10,
      "min": 0,
      "orientation": "horizontal",
      "style": "IPY_MODEL_b870588eb0ae4eb3b28bc5274ac53ca0",
      "value": 10
     }
    },
    "5a91073c115b40b88c955c5ced883cf5": {
     "model_module": "@jupyter-widgets/controls",
     "model_name": "IntProgressModel",
     "state": {
      "_dom_classes": [],
      "_model_module": "@jupyter-widgets/controls",
      "_model_module_version": "1.5.0",
      "_model_name": "IntProgressModel",
      "_view_count": null,
      "_view_module": "@jupyter-widgets/controls",
      "_view_module_version": "1.5.0",
      "_view_name": "ProgressView",
      "bar_style": "success",
      "description": "",
      "description_tooltip": null,
      "layout": "IPY_MODEL_25ee00527c42438da45552f53c132b85",
      "max": 20,
      "min": 0,
      "orientation": "horizontal",
      "style": "IPY_MODEL_90322dee5edd4220a7f8a70f01fc1b80",
      "value": 20
     }
    },
    "61b1e801ba134ded9543ed38a905b54a": {
     "model_module": "@jupyter-widgets/controls",
     "model_name": "ProgressStyleModel",
     "state": {
      "_model_module": "@jupyter-widgets/controls",
      "_model_module_version": "1.5.0",
      "_model_name": "ProgressStyleModel",
      "_view_count": null,
      "_view_module": "@jupyter-widgets/base",
      "_view_module_version": "1.2.0",
      "_view_name": "StyleView",
      "bar_color": null,
      "description_width": ""
     }
    },
    "628497070fdd4a238b950580e6e4d475": {
     "model_module": "@jupyter-widgets/controls",
     "model_name": "HBoxModel",
     "state": {
      "_dom_classes": [],
      "_model_module": "@jupyter-widgets/controls",
      "_model_module_version": "1.5.0",
      "_model_name": "HBoxModel",
      "_view_count": null,
      "_view_module": "@jupyter-widgets/controls",
      "_view_module_version": "1.5.0",
      "_view_name": "HBoxView",
      "box_style": "",
      "children": [
       "IPY_MODEL_3b85187f9bd04f38a978ba7473e69466",
       "IPY_MODEL_fdbdbf35707c41e89402964d54f1f879"
      ],
      "layout": "IPY_MODEL_3813883de53b46828c6d22122089fc32"
     }
    },
    "67f39b7708c644ecaef5c672e16472af": {
     "model_module": "@jupyter-widgets/controls",
     "model_name": "DescriptionStyleModel",
     "state": {
      "_model_module": "@jupyter-widgets/controls",
      "_model_module_version": "1.5.0",
      "_model_name": "DescriptionStyleModel",
      "_view_count": null,
      "_view_module": "@jupyter-widgets/base",
      "_view_module_version": "1.2.0",
      "_view_name": "StyleView",
      "description_width": ""
     }
    },
    "6b1ff419680345aab89a5fcf21d2790f": {
     "model_module": "@jupyter-widgets/controls",
     "model_name": "IntProgressModel",
     "state": {
      "_dom_classes": [],
      "_model_module": "@jupyter-widgets/controls",
      "_model_module_version": "1.5.0",
      "_model_name": "IntProgressModel",
      "_view_count": null,
      "_view_module": "@jupyter-widgets/controls",
      "_view_module_version": "1.5.0",
      "_view_name": "ProgressView",
      "bar_style": "success",
      "description": "",
      "description_tooltip": null,
      "layout": "IPY_MODEL_2d62a3ac6d344a5b9fe2e45aeb722048",
      "max": 100,
      "min": 0,
      "orientation": "horizontal",
      "style": "IPY_MODEL_867035746832468d8cd1923c1afc69b2",
      "value": 100
     }
    },
    "6faa725f3e5f41bdb02c0cd3a4e9d0d0": {
     "model_module": "@jupyter-widgets/controls",
     "model_name": "HTMLModel",
     "state": {
      "_dom_classes": [],
      "_model_module": "@jupyter-widgets/controls",
      "_model_module_version": "1.5.0",
      "_model_name": "HTMLModel",
      "_view_count": null,
      "_view_module": "@jupyter-widgets/controls",
      "_view_module_version": "1.5.0",
      "_view_name": "HTMLView",
      "description": "",
      "description_tooltip": null,
      "layout": "IPY_MODEL_d11c2fb682954af4a88bda162b6a5625",
      "placeholder": "​",
      "style": "IPY_MODEL_91746c48c2334b0d8026e9374be7092c",
      "value": "100% 100/100 [00:09&lt;00:00, 11.06it/s]"
     }
    },
    "744805b3fb78493782fa72434363f6c2": {
     "model_module": "@jupyter-widgets/controls",
     "model_name": "HTMLModel",
     "state": {
      "_dom_classes": [],
      "_model_module": "@jupyter-widgets/controls",
      "_model_module_version": "1.5.0",
      "_model_name": "HTMLModel",
      "_view_count": null,
      "_view_module": "@jupyter-widgets/controls",
      "_view_module_version": "1.5.0",
      "_view_name": "HTMLView",
      "description": "",
      "description_tooltip": null,
      "layout": "IPY_MODEL_064e3c00dfab451fa9d816b2574b80ed",
      "placeholder": "​",
      "style": "IPY_MODEL_159a15930e4941199c6c66a55e86b4ea",
      "value": "100% 20/20 [00:17&lt;00:00,  1.10it/s]"
     }
    },
    "77d874261ead43f8987c71538b082677": {
     "model_module": "@jupyter-widgets/base",
     "model_name": "LayoutModel",
     "state": {
      "_model_module": "@jupyter-widgets/base",
      "_model_module_version": "1.2.0",
      "_model_name": "LayoutModel",
      "_view_count": null,
      "_view_module": "@jupyter-widgets/base",
      "_view_module_version": "1.2.0",
      "_view_name": "LayoutView",
      "align_content": null,
      "align_items": null,
      "align_self": null,
      "border": null,
      "bottom": null,
      "display": null,
      "flex": null,
      "flex_flow": null,
      "grid_area": null,
      "grid_auto_columns": null,
      "grid_auto_flow": null,
      "grid_auto_rows": null,
      "grid_column": null,
      "grid_gap": null,
      "grid_row": null,
      "grid_template_areas": null,
      "grid_template_columns": null,
      "grid_template_rows": null,
      "height": null,
      "justify_content": null,
      "justify_items": null,
      "left": null,
      "margin": null,
      "max_height": null,
      "max_width": null,
      "min_height": null,
      "min_width": null,
      "object_fit": null,
      "object_position": null,
      "order": null,
      "overflow": null,
      "overflow_x": null,
      "overflow_y": null,
      "padding": null,
      "right": null,
      "top": null,
      "visibility": null,
      "width": null
     }
    },
    "7907b04457314036a88bb4aa48567b51": {
     "model_module": "@jupyter-widgets/controls",
     "model_name": "HTMLModel",
     "state": {
      "_dom_classes": [],
      "_model_module": "@jupyter-widgets/controls",
      "_model_module_version": "1.5.0",
      "_model_name": "HTMLModel",
      "_view_count": null,
      "_view_module": "@jupyter-widgets/controls",
      "_view_module_version": "1.5.0",
      "_view_name": "HTMLView",
      "description": "",
      "description_tooltip": null,
      "layout": "IPY_MODEL_a7d303c2924a4852850933d8868fd2c9",
      "placeholder": "​",
      "style": "IPY_MODEL_d46f3e38dfbf4778894224373686b938",
      "value": "100% 10/10 [00:11&lt;00:00,  1.59s/it]"
     }
    },
    "7e76c665a2c34423ad1c38c316acade9": {
     "model_module": "@jupyter-widgets/base",
     "model_name": "LayoutModel",
     "state": {
      "_model_module": "@jupyter-widgets/base",
      "_model_module_version": "1.2.0",
      "_model_name": "LayoutModel",
      "_view_count": null,
      "_view_module": "@jupyter-widgets/base",
      "_view_module_version": "1.2.0",
      "_view_name": "LayoutView",
      "align_content": null,
      "align_items": null,
      "align_self": null,
      "border": null,
      "bottom": null,
      "display": null,
      "flex": null,
      "flex_flow": null,
      "grid_area": null,
      "grid_auto_columns": null,
      "grid_auto_flow": null,
      "grid_auto_rows": null,
      "grid_column": null,
      "grid_gap": null,
      "grid_row": null,
      "grid_template_areas": null,
      "grid_template_columns": null,
      "grid_template_rows": null,
      "height": null,
      "justify_content": null,
      "justify_items": null,
      "left": null,
      "margin": null,
      "max_height": null,
      "max_width": null,
      "min_height": null,
      "min_width": null,
      "object_fit": null,
      "object_position": null,
      "order": null,
      "overflow": null,
      "overflow_x": null,
      "overflow_y": null,
      "padding": null,
      "right": null,
      "top": null,
      "visibility": null,
      "width": null
     }
    },
    "8189fcc0dae342dd935752ea61eb8bed": {
     "model_module": "@jupyter-widgets/controls",
     "model_name": "IntProgressModel",
     "state": {
      "_dom_classes": [],
      "_model_module": "@jupyter-widgets/controls",
      "_model_module_version": "1.5.0",
      "_model_name": "IntProgressModel",
      "_view_count": null,
      "_view_module": "@jupyter-widgets/controls",
      "_view_module_version": "1.5.0",
      "_view_name": "ProgressView",
      "bar_style": "success",
      "description": "",
      "description_tooltip": null,
      "layout": "IPY_MODEL_1ab7fb30e3664aa1aba7890992e89fd0",
      "max": 20,
      "min": 0,
      "orientation": "horizontal",
      "style": "IPY_MODEL_b9e54d1aec8b4e4db522965b7bb01a39",
      "value": 20
     }
    },
    "82f3e22789934df9a3bfb8e51d03590e": {
     "model_module": "@jupyter-widgets/controls",
     "model_name": "IntProgressModel",
     "state": {
      "_dom_classes": [],
      "_model_module": "@jupyter-widgets/controls",
      "_model_module_version": "1.5.0",
      "_model_name": "IntProgressModel",
      "_view_count": null,
      "_view_module": "@jupyter-widgets/controls",
      "_view_module_version": "1.5.0",
      "_view_name": "ProgressView",
      "bar_style": "success",
      "description": "",
      "description_tooltip": null,
      "layout": "IPY_MODEL_ff7fef8d24ad49f2a63c8b1067660e8f",
      "max": 10,
      "min": 0,
      "orientation": "horizontal",
      "style": "IPY_MODEL_61b1e801ba134ded9543ed38a905b54a",
      "value": 10
     }
    },
    "867035746832468d8cd1923c1afc69b2": {
     "model_module": "@jupyter-widgets/controls",
     "model_name": "ProgressStyleModel",
     "state": {
      "_model_module": "@jupyter-widgets/controls",
      "_model_module_version": "1.5.0",
      "_model_name": "ProgressStyleModel",
      "_view_count": null,
      "_view_module": "@jupyter-widgets/base",
      "_view_module_version": "1.2.0",
      "_view_name": "StyleView",
      "bar_color": null,
      "description_width": ""
     }
    },
    "8e2f0f3c6fbb4b12906df61fd3e6e6da": {
     "model_module": "@jupyter-widgets/controls",
     "model_name": "ProgressStyleModel",
     "state": {
      "_model_module": "@jupyter-widgets/controls",
      "_model_module_version": "1.5.0",
      "_model_name": "ProgressStyleModel",
      "_view_count": null,
      "_view_module": "@jupyter-widgets/base",
      "_view_module_version": "1.2.0",
      "_view_name": "StyleView",
      "bar_color": null,
      "description_width": ""
     }
    },
    "90322dee5edd4220a7f8a70f01fc1b80": {
     "model_module": "@jupyter-widgets/controls",
     "model_name": "ProgressStyleModel",
     "state": {
      "_model_module": "@jupyter-widgets/controls",
      "_model_module_version": "1.5.0",
      "_model_name": "ProgressStyleModel",
      "_view_count": null,
      "_view_module": "@jupyter-widgets/base",
      "_view_module_version": "1.2.0",
      "_view_name": "StyleView",
      "bar_color": null,
      "description_width": ""
     }
    },
    "91746c48c2334b0d8026e9374be7092c": {
     "model_module": "@jupyter-widgets/controls",
     "model_name": "DescriptionStyleModel",
     "state": {
      "_model_module": "@jupyter-widgets/controls",
      "_model_module_version": "1.5.0",
      "_model_name": "DescriptionStyleModel",
      "_view_count": null,
      "_view_module": "@jupyter-widgets/base",
      "_view_module_version": "1.2.0",
      "_view_name": "StyleView",
      "description_width": ""
     }
    },
    "9284873fc32a46ab83f814a26bcbe4ad": {
     "model_module": "@jupyter-widgets/controls",
     "model_name": "DescriptionStyleModel",
     "state": {
      "_model_module": "@jupyter-widgets/controls",
      "_model_module_version": "1.5.0",
      "_model_name": "DescriptionStyleModel",
      "_view_count": null,
      "_view_module": "@jupyter-widgets/base",
      "_view_module_version": "1.2.0",
      "_view_name": "StyleView",
      "description_width": ""
     }
    },
    "a29813b694fc49bea7293dc625e6873f": {
     "model_module": "@jupyter-widgets/controls",
     "model_name": "HBoxModel",
     "state": {
      "_dom_classes": [],
      "_model_module": "@jupyter-widgets/controls",
      "_model_module_version": "1.5.0",
      "_model_name": "HBoxModel",
      "_view_count": null,
      "_view_module": "@jupyter-widgets/controls",
      "_view_module_version": "1.5.0",
      "_view_name": "HBoxView",
      "box_style": "",
      "children": [
       "IPY_MODEL_8189fcc0dae342dd935752ea61eb8bed",
       "IPY_MODEL_744805b3fb78493782fa72434363f6c2"
      ],
      "layout": "IPY_MODEL_0a245eb834394e6592f68738d4f7a986"
     }
    },
    "a322f59d183a4bdba403d676ae591cfc": {
     "model_module": "@jupyter-widgets/base",
     "model_name": "LayoutModel",
     "state": {
      "_model_module": "@jupyter-widgets/base",
      "_model_module_version": "1.2.0",
      "_model_name": "LayoutModel",
      "_view_count": null,
      "_view_module": "@jupyter-widgets/base",
      "_view_module_version": "1.2.0",
      "_view_name": "LayoutView",
      "align_content": null,
      "align_items": null,
      "align_self": null,
      "border": null,
      "bottom": null,
      "display": null,
      "flex": null,
      "flex_flow": null,
      "grid_area": null,
      "grid_auto_columns": null,
      "grid_auto_flow": null,
      "grid_auto_rows": null,
      "grid_column": null,
      "grid_gap": null,
      "grid_row": null,
      "grid_template_areas": null,
      "grid_template_columns": null,
      "grid_template_rows": null,
      "height": null,
      "justify_content": null,
      "justify_items": null,
      "left": null,
      "margin": null,
      "max_height": null,
      "max_width": null,
      "min_height": null,
      "min_width": null,
      "object_fit": null,
      "object_position": null,
      "order": null,
      "overflow": null,
      "overflow_x": null,
      "overflow_y": null,
      "padding": null,
      "right": null,
      "top": null,
      "visibility": null,
      "width": null
     }
    },
    "a7d303c2924a4852850933d8868fd2c9": {
     "model_module": "@jupyter-widgets/base",
     "model_name": "LayoutModel",
     "state": {
      "_model_module": "@jupyter-widgets/base",
      "_model_module_version": "1.2.0",
      "_model_name": "LayoutModel",
      "_view_count": null,
      "_view_module": "@jupyter-widgets/base",
      "_view_module_version": "1.2.0",
      "_view_name": "LayoutView",
      "align_content": null,
      "align_items": null,
      "align_self": null,
      "border": null,
      "bottom": null,
      "display": null,
      "flex": null,
      "flex_flow": null,
      "grid_area": null,
      "grid_auto_columns": null,
      "grid_auto_flow": null,
      "grid_auto_rows": null,
      "grid_column": null,
      "grid_gap": null,
      "grid_row": null,
      "grid_template_areas": null,
      "grid_template_columns": null,
      "grid_template_rows": null,
      "height": null,
      "justify_content": null,
      "justify_items": null,
      "left": null,
      "margin": null,
      "max_height": null,
      "max_width": null,
      "min_height": null,
      "min_width": null,
      "object_fit": null,
      "object_position": null,
      "order": null,
      "overflow": null,
      "overflow_x": null,
      "overflow_y": null,
      "padding": null,
      "right": null,
      "top": null,
      "visibility": null,
      "width": null
     }
    },
    "a9a25663257f4aa0b573e57e5abdb109": {
     "model_module": "@jupyter-widgets/controls",
     "model_name": "ProgressStyleModel",
     "state": {
      "_model_module": "@jupyter-widgets/controls",
      "_model_module_version": "1.5.0",
      "_model_name": "ProgressStyleModel",
      "_view_count": null,
      "_view_module": "@jupyter-widgets/base",
      "_view_module_version": "1.2.0",
      "_view_name": "StyleView",
      "bar_color": null,
      "description_width": ""
     }
    },
    "ad598e1546a14c27bff735e973e53613": {
     "model_module": "@jupyter-widgets/base",
     "model_name": "LayoutModel",
     "state": {
      "_model_module": "@jupyter-widgets/base",
      "_model_module_version": "1.2.0",
      "_model_name": "LayoutModel",
      "_view_count": null,
      "_view_module": "@jupyter-widgets/base",
      "_view_module_version": "1.2.0",
      "_view_name": "LayoutView",
      "align_content": null,
      "align_items": null,
      "align_self": null,
      "border": null,
      "bottom": null,
      "display": null,
      "flex": null,
      "flex_flow": null,
      "grid_area": null,
      "grid_auto_columns": null,
      "grid_auto_flow": null,
      "grid_auto_rows": null,
      "grid_column": null,
      "grid_gap": null,
      "grid_row": null,
      "grid_template_areas": null,
      "grid_template_columns": null,
      "grid_template_rows": null,
      "height": null,
      "justify_content": null,
      "justify_items": null,
      "left": null,
      "margin": null,
      "max_height": null,
      "max_width": null,
      "min_height": null,
      "min_width": null,
      "object_fit": null,
      "object_position": null,
      "order": null,
      "overflow": null,
      "overflow_x": null,
      "overflow_y": null,
      "padding": null,
      "right": null,
      "top": null,
      "visibility": null,
      "width": null
     }
    },
    "b870588eb0ae4eb3b28bc5274ac53ca0": {
     "model_module": "@jupyter-widgets/controls",
     "model_name": "ProgressStyleModel",
     "state": {
      "_model_module": "@jupyter-widgets/controls",
      "_model_module_version": "1.5.0",
      "_model_name": "ProgressStyleModel",
      "_view_count": null,
      "_view_module": "@jupyter-widgets/base",
      "_view_module_version": "1.2.0",
      "_view_name": "StyleView",
      "bar_color": null,
      "description_width": ""
     }
    },
    "b9e54d1aec8b4e4db522965b7bb01a39": {
     "model_module": "@jupyter-widgets/controls",
     "model_name": "ProgressStyleModel",
     "state": {
      "_model_module": "@jupyter-widgets/controls",
      "_model_module_version": "1.5.0",
      "_model_name": "ProgressStyleModel",
      "_view_count": null,
      "_view_module": "@jupyter-widgets/base",
      "_view_module_version": "1.2.0",
      "_view_name": "StyleView",
      "bar_color": null,
      "description_width": ""
     }
    },
    "c9816bfbbf124fd28d3f218c47d9f285": {
     "model_module": "@jupyter-widgets/base",
     "model_name": "LayoutModel",
     "state": {
      "_model_module": "@jupyter-widgets/base",
      "_model_module_version": "1.2.0",
      "_model_name": "LayoutModel",
      "_view_count": null,
      "_view_module": "@jupyter-widgets/base",
      "_view_module_version": "1.2.0",
      "_view_name": "LayoutView",
      "align_content": null,
      "align_items": null,
      "align_self": null,
      "border": null,
      "bottom": null,
      "display": null,
      "flex": null,
      "flex_flow": null,
      "grid_area": null,
      "grid_auto_columns": null,
      "grid_auto_flow": null,
      "grid_auto_rows": null,
      "grid_column": null,
      "grid_gap": null,
      "grid_row": null,
      "grid_template_areas": null,
      "grid_template_columns": null,
      "grid_template_rows": null,
      "height": null,
      "justify_content": null,
      "justify_items": null,
      "left": null,
      "margin": null,
      "max_height": null,
      "max_width": null,
      "min_height": null,
      "min_width": null,
      "object_fit": null,
      "object_position": null,
      "order": null,
      "overflow": null,
      "overflow_x": null,
      "overflow_y": null,
      "padding": null,
      "right": null,
      "top": null,
      "visibility": null,
      "width": null
     }
    },
    "c9a26d0711784f5db7fab7851c784305": {
     "model_module": "@jupyter-widgets/controls",
     "model_name": "ProgressStyleModel",
     "state": {
      "_model_module": "@jupyter-widgets/controls",
      "_model_module_version": "1.5.0",
      "_model_name": "ProgressStyleModel",
      "_view_count": null,
      "_view_module": "@jupyter-widgets/base",
      "_view_module_version": "1.2.0",
      "_view_name": "StyleView",
      "bar_color": null,
      "description_width": ""
     }
    },
    "cc6ba656e8de4056878a6293ae2bfcaa": {
     "model_module": "@jupyter-widgets/controls",
     "model_name": "HBoxModel",
     "state": {
      "_dom_classes": [],
      "_model_module": "@jupyter-widgets/controls",
      "_model_module_version": "1.5.0",
      "_model_name": "HBoxModel",
      "_view_count": null,
      "_view_module": "@jupyter-widgets/controls",
      "_view_module_version": "1.5.0",
      "_view_name": "HBoxView",
      "box_style": "",
      "children": [
       "IPY_MODEL_82f3e22789934df9a3bfb8e51d03590e",
       "IPY_MODEL_e5ffbe0469c942f28896f7839cd679b4"
      ],
      "layout": "IPY_MODEL_e87d8d7b471e46f2a67ac84716eb5915"
     }
    },
    "d11c2fb682954af4a88bda162b6a5625": {
     "model_module": "@jupyter-widgets/base",
     "model_name": "LayoutModel",
     "state": {
      "_model_module": "@jupyter-widgets/base",
      "_model_module_version": "1.2.0",
      "_model_name": "LayoutModel",
      "_view_count": null,
      "_view_module": "@jupyter-widgets/base",
      "_view_module_version": "1.2.0",
      "_view_name": "LayoutView",
      "align_content": null,
      "align_items": null,
      "align_self": null,
      "border": null,
      "bottom": null,
      "display": null,
      "flex": null,
      "flex_flow": null,
      "grid_area": null,
      "grid_auto_columns": null,
      "grid_auto_flow": null,
      "grid_auto_rows": null,
      "grid_column": null,
      "grid_gap": null,
      "grid_row": null,
      "grid_template_areas": null,
      "grid_template_columns": null,
      "grid_template_rows": null,
      "height": null,
      "justify_content": null,
      "justify_items": null,
      "left": null,
      "margin": null,
      "max_height": null,
      "max_width": null,
      "min_height": null,
      "min_width": null,
      "object_fit": null,
      "object_position": null,
      "order": null,
      "overflow": null,
      "overflow_x": null,
      "overflow_y": null,
      "padding": null,
      "right": null,
      "top": null,
      "visibility": null,
      "width": null
     }
    },
    "d4528ce6d94a4cdb8791e36a74b2722c": {
     "model_module": "@jupyter-widgets/controls",
     "model_name": "IntProgressModel",
     "state": {
      "_dom_classes": [],
      "_model_module": "@jupyter-widgets/controls",
      "_model_module_version": "1.5.0",
      "_model_name": "IntProgressModel",
      "_view_count": null,
      "_view_module": "@jupyter-widgets/controls",
      "_view_module_version": "1.5.0",
      "_view_name": "ProgressView",
      "bar_style": "success",
      "description": "",
      "description_tooltip": null,
      "layout": "IPY_MODEL_ad598e1546a14c27bff735e973e53613",
      "max": 6,
      "min": 0,
      "orientation": "horizontal",
      "style": "IPY_MODEL_a9a25663257f4aa0b573e57e5abdb109",
      "value": 6
     }
    },
    "d46f3e38dfbf4778894224373686b938": {
     "model_module": "@jupyter-widgets/controls",
     "model_name": "DescriptionStyleModel",
     "state": {
      "_model_module": "@jupyter-widgets/controls",
      "_model_module_version": "1.5.0",
      "_model_name": "DescriptionStyleModel",
      "_view_count": null,
      "_view_module": "@jupyter-widgets/base",
      "_view_module_version": "1.2.0",
      "_view_name": "StyleView",
      "description_width": ""
     }
    },
    "d7013d1db28348079a5452d9b8891244": {
     "model_module": "@jupyter-widgets/controls",
     "model_name": "IntProgressModel",
     "state": {
      "_dom_classes": [],
      "_model_module": "@jupyter-widgets/controls",
      "_model_module_version": "1.5.0",
      "_model_name": "IntProgressModel",
      "_view_count": null,
      "_view_module": "@jupyter-widgets/controls",
      "_view_module_version": "1.5.0",
      "_view_name": "ProgressView",
      "bar_style": "success",
      "description": "",
      "description_tooltip": null,
      "layout": "IPY_MODEL_02fdfc5f13f84451946a5f7e467b817c",
      "max": 20,
      "min": 0,
      "orientation": "horizontal",
      "style": "IPY_MODEL_c9a26d0711784f5db7fab7851c784305",
      "value": 20
     }
    },
    "d73f3b2bd1984ab6b5c29c6d606b3aea": {
     "model_module": "@jupyter-widgets/base",
     "model_name": "LayoutModel",
     "state": {
      "_model_module": "@jupyter-widgets/base",
      "_model_module_version": "1.2.0",
      "_model_name": "LayoutModel",
      "_view_count": null,
      "_view_module": "@jupyter-widgets/base",
      "_view_module_version": "1.2.0",
      "_view_name": "LayoutView",
      "align_content": null,
      "align_items": null,
      "align_self": null,
      "border": null,
      "bottom": null,
      "display": null,
      "flex": null,
      "flex_flow": null,
      "grid_area": null,
      "grid_auto_columns": null,
      "grid_auto_flow": null,
      "grid_auto_rows": null,
      "grid_column": null,
      "grid_gap": null,
      "grid_row": null,
      "grid_template_areas": null,
      "grid_template_columns": null,
      "grid_template_rows": null,
      "height": null,
      "justify_content": null,
      "justify_items": null,
      "left": null,
      "margin": null,
      "max_height": null,
      "max_width": null,
      "min_height": null,
      "min_width": null,
      "object_fit": null,
      "object_position": null,
      "order": null,
      "overflow": null,
      "overflow_x": null,
      "overflow_y": null,
      "padding": null,
      "right": null,
      "top": null,
      "visibility": null,
      "width": null
     }
    },
    "dd35dd8178a346409d176ffb53a944a8": {
     "model_module": "@jupyter-widgets/controls",
     "model_name": "HBoxModel",
     "state": {
      "_dom_classes": [],
      "_model_module": "@jupyter-widgets/controls",
      "_model_module_version": "1.5.0",
      "_model_name": "HBoxModel",
      "_view_count": null,
      "_view_module": "@jupyter-widgets/controls",
      "_view_module_version": "1.5.0",
      "_view_name": "HBoxView",
      "box_style": "",
      "children": [
       "IPY_MODEL_5a91073c115b40b88c955c5ced883cf5",
       "IPY_MODEL_e385b6bcfbb24039b83817485697f957"
      ],
      "layout": "IPY_MODEL_1d244712566d4a53ab60bf48bf9a8cb9"
     }
    },
    "e385b6bcfbb24039b83817485697f957": {
     "model_module": "@jupyter-widgets/controls",
     "model_name": "HTMLModel",
     "state": {
      "_dom_classes": [],
      "_model_module": "@jupyter-widgets/controls",
      "_model_module_version": "1.5.0",
      "_model_name": "HTMLModel",
      "_view_count": null,
      "_view_module": "@jupyter-widgets/controls",
      "_view_module_version": "1.5.0",
      "_view_name": "HTMLView",
      "description": "",
      "description_tooltip": null,
      "layout": "IPY_MODEL_7e76c665a2c34423ad1c38c316acade9",
      "placeholder": "​",
      "style": "IPY_MODEL_9284873fc32a46ab83f814a26bcbe4ad",
      "value": "100% 20/20 [01:16&lt;00:00,  5.10s/it]"
     }
    },
    "e5ffbe0469c942f28896f7839cd679b4": {
     "model_module": "@jupyter-widgets/controls",
     "model_name": "HTMLModel",
     "state": {
      "_dom_classes": [],
      "_model_module": "@jupyter-widgets/controls",
      "_model_module_version": "1.5.0",
      "_model_name": "HTMLModel",
      "_view_count": null,
      "_view_module": "@jupyter-widgets/controls",
      "_view_module_version": "1.5.0",
      "_view_name": "HTMLView",
      "description": "",
      "description_tooltip": null,
      "layout": "IPY_MODEL_47204d48907e4c9fbdce702ab0eb62c5",
      "placeholder": "​",
      "style": "IPY_MODEL_67f39b7708c644ecaef5c672e16472af",
      "value": "100% 10/10 [00:08&lt;00:00,  1.31s/it]"
     }
    },
    "e87d8d7b471e46f2a67ac84716eb5915": {
     "model_module": "@jupyter-widgets/base",
     "model_name": "LayoutModel",
     "state": {
      "_model_module": "@jupyter-widgets/base",
      "_model_module_version": "1.2.0",
      "_model_name": "LayoutModel",
      "_view_count": null,
      "_view_module": "@jupyter-widgets/base",
      "_view_module_version": "1.2.0",
      "_view_name": "LayoutView",
      "align_content": null,
      "align_items": null,
      "align_self": null,
      "border": null,
      "bottom": null,
      "display": null,
      "flex": null,
      "flex_flow": null,
      "grid_area": null,
      "grid_auto_columns": null,
      "grid_auto_flow": null,
      "grid_auto_rows": null,
      "grid_column": null,
      "grid_gap": null,
      "grid_row": null,
      "grid_template_areas": null,
      "grid_template_columns": null,
      "grid_template_rows": null,
      "height": null,
      "justify_content": null,
      "justify_items": null,
      "left": null,
      "margin": null,
      "max_height": null,
      "max_width": null,
      "min_height": null,
      "min_width": null,
      "object_fit": null,
      "object_position": null,
      "order": null,
      "overflow": null,
      "overflow_x": null,
      "overflow_y": null,
      "padding": null,
      "right": null,
      "top": null,
      "visibility": null,
      "width": null
     }
    },
    "f2105ba3593d461aa796be8c0eb6de10": {
     "model_module": "@jupyter-widgets/controls",
     "model_name": "HBoxModel",
     "state": {
      "_dom_classes": [],
      "_model_module": "@jupyter-widgets/controls",
      "_model_module_version": "1.5.0",
      "_model_name": "HBoxModel",
      "_view_count": null,
      "_view_module": "@jupyter-widgets/controls",
      "_view_module_version": "1.5.0",
      "_view_name": "HBoxView",
      "box_style": "",
      "children": [
       "IPY_MODEL_d4528ce6d94a4cdb8791e36a74b2722c",
       "IPY_MODEL_0f2d442ec55e424a845ed59912b60d37"
      ],
      "layout": "IPY_MODEL_d73f3b2bd1984ab6b5c29c6d606b3aea"
     }
    },
    "fa89a529093c47c994e48601cd1622ae": {
     "model_module": "@jupyter-widgets/controls",
     "model_name": "HBoxModel",
     "state": {
      "_dom_classes": [],
      "_model_module": "@jupyter-widgets/controls",
      "_model_module_version": "1.5.0",
      "_model_name": "HBoxModel",
      "_view_count": null,
      "_view_module": "@jupyter-widgets/controls",
      "_view_module_version": "1.5.0",
      "_view_name": "HBoxView",
      "box_style": "",
      "children": [
       "IPY_MODEL_6b1ff419680345aab89a5fcf21d2790f",
       "IPY_MODEL_6faa725f3e5f41bdb02c0cd3a4e9d0d0"
      ],
      "layout": "IPY_MODEL_a322f59d183a4bdba403d676ae591cfc"
     }
    },
    "fc4b93fb7bd14e98b237a97f0529a96a": {
     "model_module": "@jupyter-widgets/controls",
     "model_name": "HBoxModel",
     "state": {
      "_dom_classes": [],
      "_model_module": "@jupyter-widgets/controls",
      "_model_module_version": "1.5.0",
      "_model_name": "HBoxModel",
      "_view_count": null,
      "_view_module": "@jupyter-widgets/controls",
      "_view_module_version": "1.5.0",
      "_view_name": "HBoxView",
      "box_style": "",
      "children": [
       "IPY_MODEL_577e4fe7422d40ada604ed7e274311cf",
       "IPY_MODEL_7907b04457314036a88bb4aa48567b51"
      ],
      "layout": "IPY_MODEL_21b81c8516bf4ab5a8ab57667e590fd4"
     }
    },
    "fdbdbf35707c41e89402964d54f1f879": {
     "model_module": "@jupyter-widgets/controls",
     "model_name": "HTMLModel",
     "state": {
      "_dom_classes": [],
      "_model_module": "@jupyter-widgets/controls",
      "_model_module_version": "1.5.0",
      "_model_name": "HTMLModel",
      "_view_count": null,
      "_view_module": "@jupyter-widgets/controls",
      "_view_module_version": "1.5.0",
      "_view_name": "HTMLView",
      "description": "",
      "description_tooltip": null,
      "layout": "IPY_MODEL_c9816bfbbf124fd28d3f218c47d9f285",
      "placeholder": "​",
      "style": "IPY_MODEL_1b46775e10d44c91ad6018664236a37e",
      "value": "100% 6/6 [00:14&lt;00:00,  3.49s/it]"
     }
    },
    "ff7fef8d24ad49f2a63c8b1067660e8f": {
     "model_module": "@jupyter-widgets/base",
     "model_name": "LayoutModel",
     "state": {
      "_model_module": "@jupyter-widgets/base",
      "_model_module_version": "1.2.0",
      "_model_name": "LayoutModel",
      "_view_count": null,
      "_view_module": "@jupyter-widgets/base",
      "_view_module_version": "1.2.0",
      "_view_name": "LayoutView",
      "align_content": null,
      "align_items": null,
      "align_self": null,
      "border": null,
      "bottom": null,
      "display": null,
      "flex": null,
      "flex_flow": null,
      "grid_area": null,
      "grid_auto_columns": null,
      "grid_auto_flow": null,
      "grid_auto_rows": null,
      "grid_column": null,
      "grid_gap": null,
      "grid_row": null,
      "grid_template_areas": null,
      "grid_template_columns": null,
      "grid_template_rows": null,
      "height": null,
      "justify_content": null,
      "justify_items": null,
      "left": null,
      "margin": null,
      "max_height": null,
      "max_width": null,
      "min_height": null,
      "min_width": null,
      "object_fit": null,
      "object_position": null,
      "order": null,
      "overflow": null,
      "overflow_x": null,
      "overflow_y": null,
      "padding": null,
      "right": null,
      "top": null,
      "visibility": null,
      "width": null
     }
    }
   }
  }
 },
 "nbformat": 4,
 "nbformat_minor": 1
}
