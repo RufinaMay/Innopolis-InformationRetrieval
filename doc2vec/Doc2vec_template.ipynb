{
 "cells": [
  {
   "cell_type": "markdown",
   "metadata": {},
   "source": [
    "# Evolving vector-space model\n",
    "\n",
    "This lab will be devoted to the use of `doc2vec` model for the needs of information retrieval and text classification.  \n",
    "\n",
    "## 1. Searching in the curious facts database\n",
    "The facts dataset is given [here](https://github.com/hsu-ai-course/hsu.ai/blob/master/code/datasets/nlp/facts.txt), take a look.  We want you to retrieve facts relevant to the query, for example, you type \"good mood\", and get to know that Cherophobia is the fear of fun. For this, the idea is to utilize document vectors. However, instead of forming vectors with tf-idf and reducing dimensions, this time we want to obtain fixed-size vectors for documents using `doc2vec` model.\n",
    "\n",
    "### 1.1 Loading trained `doc2vec` model\n",
    "\n",
    "First, let's load the pre-trained `doc2vec` model from https://github.com/jhlau/doc2vec (Associated Press News DBOW (0.6GB))"
   ]
  },
  {
   "cell_type": "code",
   "execution_count": 1,
   "metadata": {},
   "outputs": [
    {
     "name": "stdout",
     "output_type": "stream",
     "text": [
      "Collecting gensim\n",
      "  Downloading https://files.pythonhosted.org/packages/e2/a6/ec7a2b8bb0a0cd864e437e1984398893f959592dc0d702ffffb1683fe7e3/gensim-3.8.1-cp36-cp36m-win_amd64.whl (24.2MB)\n",
      "Collecting smart-open>=1.8.1 (from gensim)\n",
      "  Downloading https://files.pythonhosted.org/packages/0c/09/735f2786dfac9bbf39d244ce75c0313d27d4962e71e0774750dc809f2395/smart_open-1.9.0.tar.gz (70kB)\n",
      "Requirement already satisfied: six>=1.5.0 in c:\\users\\rufina\\anaconda3\\lib\\site-packages (from gensim) (1.12.0)\n",
      "Requirement already satisfied: scipy>=0.18.1 in c:\\users\\rufina\\anaconda3\\lib\\site-packages (from gensim) (1.2.0)\n",
      "Requirement already satisfied: numpy>=1.11.3 in c:\\users\\rufina\\anaconda3\\lib\\site-packages (from gensim) (1.15.4)\n",
      "Requirement already satisfied: boto>=2.32 in c:\\users\\rufina\\anaconda3\\lib\\site-packages (from smart-open>=1.8.1->gensim) (2.49.0)\n",
      "Requirement already satisfied: requests in c:\\users\\rufina\\anaconda3\\lib\\site-packages (from smart-open>=1.8.1->gensim) (2.21.0)\n",
      "Collecting boto3 (from smart-open>=1.8.1->gensim)\n",
      "  Downloading https://files.pythonhosted.org/packages/24/e1/708121119236821107abbb326920dd866bfcfc5f84057061c8bb3ff6b544/boto3-1.11.17-py2.py3-none-any.whl (128kB)\n",
      "Requirement already satisfied: chardet<3.1.0,>=3.0.2 in c:\\users\\rufina\\anaconda3\\lib\\site-packages (from requests->smart-open>=1.8.1->gensim) (3.0.4)\n",
      "Requirement already satisfied: certifi>=2017.4.17 in c:\\users\\rufina\\anaconda3\\lib\\site-packages (from requests->smart-open>=1.8.1->gensim) (2019.3.9)\n",
      "Requirement already satisfied: idna<2.9,>=2.5 in c:\\users\\rufina\\anaconda3\\lib\\site-packages (from requests->smart-open>=1.8.1->gensim) (2.8)\n",
      "Requirement already satisfied: urllib3<1.25,>=1.21.1 in c:\\users\\rufina\\anaconda3\\lib\\site-packages (from requests->smart-open>=1.8.1->gensim) (1.24.1)\n",
      "Collecting jmespath<1.0.0,>=0.7.1 (from boto3->smart-open>=1.8.1->gensim)\n",
      "  Downloading https://files.pythonhosted.org/packages/83/94/7179c3832a6d45b266ddb2aac329e101367fbdb11f425f13771d27f225bb/jmespath-0.9.4-py2.py3-none-any.whl\n",
      "Collecting botocore<1.15.0,>=1.14.17 (from boto3->smart-open>=1.8.1->gensim)\n",
      "  Downloading https://files.pythonhosted.org/packages/f2/bc/788364aeb7d969a38c9d2295f95f1315a2ef49163f9b71d06de8c5ef0754/botocore-1.14.17-py2.py3-none-any.whl (5.9MB)\n",
      "Collecting s3transfer<0.4.0,>=0.3.0 (from boto3->smart-open>=1.8.1->gensim)\n",
      "  Downloading https://files.pythonhosted.org/packages/69/79/e6afb3d8b0b4e96cefbdc690f741d7dd24547ff1f94240c997a26fa908d3/s3transfer-0.3.3-py2.py3-none-any.whl (69kB)\n",
      "Requirement already satisfied: python-dateutil<3.0.0,>=2.1 in c:\\users\\rufina\\anaconda3\\lib\\site-packages (from botocore<1.15.0,>=1.14.17->boto3->smart-open>=1.8.1->gensim) (2.7.5)\n",
      "Requirement already satisfied: docutils<0.16,>=0.10 in c:\\users\\rufina\\anaconda3\\lib\\site-packages (from botocore<1.15.0,>=1.14.17->boto3->smart-open>=1.8.1->gensim) (0.14)\n",
      "Building wheels for collected packages: smart-open\n",
      "  Building wheel for smart-open (setup.py): started\n",
      "  Building wheel for smart-open (setup.py): finished with status 'done'\n",
      "  Stored in directory: C:\\Users\\Rufina\\AppData\\Local\\pip\\Cache\\wheels\\ab\\10\\93\\5cff86f5b721d77edaecc29959b1c60d894be1f66d91407d28\n",
      "Successfully built smart-open\n",
      "Installing collected packages: jmespath, botocore, s3transfer, boto3, smart-open, gensim\n",
      "Successfully installed boto3-1.11.17 botocore-1.14.17 gensim-3.8.1 jmespath-0.9.4 s3transfer-0.3.3 smart-open-1.9.0\n"
     ]
    },
    {
     "name": "stderr",
     "output_type": "stream",
     "text": [
      "WARNING: You are using pip version 19.1.1, however version 20.0.2 is available.\n",
      "You should consider upgrading via the 'python -m pip install --upgrade pip' command.\n"
     ]
    }
   ],
   "source": [
    "!pip install gensim"
   ]
  },
  {
   "cell_type": "code",
   "execution_count": 4,
   "metadata": {},
   "outputs": [
    {
     "name": "stdout",
     "output_type": "stream",
     "text": [
      "<class 'gensim.models.doc2vec.Doc2Vec'>\n",
      "<class 'numpy.ndarray'>\n"
     ]
    }
   ],
   "source": [
    "from gensim.models.doc2vec import Doc2Vec\n",
    "\n",
    "# unpack a model into 3 files and target the main one\n",
    "# doc2vec.bin  <---------- this\n",
    "# doc2vec.bin.syn0.npy\n",
    "# doc2vec.bin.sin1neg.npy\n",
    "model = Doc2Vec.load('doc2vec.bin', mmap=None)\n",
    "print(type(model))\n",
    "print(type(model.infer_vector([\"to\", \"be\", \"or\", \"not\"])))"
   ]
  },
  {
   "cell_type": "markdown",
   "metadata": {},
   "source": [
    "### 1.2 Reading data\n",
    "\n",
    "Now, let's read the facts dataset. Download it from the abovementioned url and read to the list of sentences."
   ]
  },
  {
   "cell_type": "code",
   "execution_count": 56,
   "metadata": {
    "scrolled": true
   },
   "outputs": [],
   "source": [
    "#TODO read facts into list\n",
    "from bs4 import BeautifulSoup\n",
    "from bs4.element import Comment\n",
    "import urllib.parse\n",
    "import requests\n",
    "from urllib.parse import quote\n",
    "from nltk.tokenize import sent_tokenize\n",
    "from gensim.summarization.textcleaner import get_sentences\n",
    "import re\n",
    "\n",
    "class Document:\n",
    "    \n",
    "    def __init__(self, url):\n",
    "        self.url = url\n",
    "        \n",
    "    def get(self):\n",
    "        if not self.load():\n",
    "            if not self.download():\n",
    "                raise FileNotFoundError(self.url)\n",
    "            else:\n",
    "                self.persist()\n",
    "    \n",
    "    def download(self):\n",
    "        try:\n",
    "            response = requests.get(self.url)\n",
    "            if response.status_code == 200:\n",
    "                self.content = response.content\n",
    "                return True\n",
    "            else:\n",
    "                return False\n",
    "        except:\n",
    "            return False\n",
    "    \n",
    "    def persist(self):\n",
    "        with open(quote(self.url).replace('/', '_'), 'wb') as f:\n",
    "            f.write(self.content)\n",
    "            \n",
    "    def load(self):\n",
    "        # print(\"Loading from drive\")\n",
    "        try:\n",
    "            with open(quote(self.url).replace('/', '_'), 'rb') as f:\n",
    "                self.content = f.read()\n",
    "            # print(\"Loaded from drive\")\n",
    "            return True\n",
    "        except:\n",
    "            return False\n",
    "\n",
    "\n",
    "        \n",
    "facts_url = 'https://raw.githubusercontent.com/hsu-ai-course/hsu.ai/master/code/datasets/nlp/facts.txt'\n",
    "doc = HtmlDocument(facts_url)\n",
    "doc.get()\n",
    "file1 = open(quote(facts_url).replace('/', '_'), 'r') \n",
    "Lines = file1.readlines() \n",
    "facts = [l for l in Lines]"
   ]
  },
  {
   "cell_type": "markdown",
   "metadata": {},
   "source": [
    "### 1.3 Tests"
   ]
  },
  {
   "cell_type": "code",
   "execution_count": 57,
   "metadata": {},
   "outputs": [
    {
     "name": "stdout",
     "output_type": "stream",
     "text": [
      "1. If you somehow found a way to extract all of the gold from the bubbling core of our lovely little planet, you would be able to cover all of the land in a layer of gold up to your knees.\n",
      "\n",
      "2. McDonalds calls frequent buyers of their food “heavy users.”\n",
      "\n",
      "3. The average person spends 6 months of their lifetime waiting on a red light to turn green.\n",
      "\n",
      "4. The largest recorded snowflake was in Keogh, MT during year 1887, and was 15 inches wide.\n",
      "\n",
      "5. You burn more calories sleeping than you do watching television.\n",
      "\n"
     ]
    }
   ],
   "source": [
    "print(*facts[:5], sep='\\n')\n",
    "\n",
    "assert len(facts) == 159\n",
    "assert ('our lovely little planet') in facts[0]"
   ]
  },
  {
   "cell_type": "markdown",
   "metadata": {},
   "source": [
    "### 1.4  Transforming sentences to vectors\n",
    "\n",
    "Transform the list of facts to numpy array of vectors corresponding to each document (`sent_vecs`), inferring them from the model we just loaded."
   ]
  },
  {
   "cell_type": "code",
   "execution_count": 105,
   "metadata": {},
   "outputs": [],
   "source": [
    "#TODO infer vectors\n",
    "import numpy as np\n",
    "\n",
    "\n",
    "#inference hyper-parameters\n",
    "start_alpha=0.01\n",
    "infer_epoch=1000\n",
    "sent_vecs = np.array([model.infer_vector(f.lower().split(), alpha=start_alpha, steps=infer_epoch) for f in facts])"
   ]
  },
  {
   "cell_type": "markdown",
   "metadata": {},
   "source": [
    "### 1.5 Tests "
   ]
  },
  {
   "cell_type": "code",
   "execution_count": 93,
   "metadata": {
    "scrolled": true
   },
   "outputs": [
    {
     "name": "stdout",
     "output_type": "stream",
     "text": [
      "(159, 300)\n"
     ]
    }
   ],
   "source": [
    "print(sent_vecs.shape)\n",
    "assert sent_vecs.shape == (159, 300)"
   ]
  },
  {
   "cell_type": "markdown",
   "metadata": {},
   "source": [
    "### 1.6 Find closest\n",
    "\n",
    "Now, reusing the code from the last lab, find facts which are closest to the query using cosine similarity measure."
   ]
  },
  {
   "cell_type": "code",
   "execution_count": 106,
   "metadata": {},
   "outputs": [
    {
     "name": "stdout",
     "output_type": "stream",
     "text": [
      "Results for query: good mood\n",
      "\t 121. Birds don’t urinate.\n",
      " sim= 0.52012867\n",
      "\t 150. You can’t hum while holding your nose closed.\n",
      " sim= 0.498863\n",
      "\t 144. Dolphins sleep with one eye open!\n",
      " sim= 0.4937086\n",
      "\t 155. On Jupiter and Saturn it rains diamonds. sim= 0.4793191\n",
      "\t 97. 111,111,111 X 111,111,111 = 12,345,678,987,654,321\n",
      " sim= 0.47703522\n"
     ]
    }
   ],
   "source": [
    "#TODO output closest facts to the query\n",
    "def norm_vectors(A):\n",
    "    An = A.copy()\n",
    "    for i, row in enumerate(An):\n",
    "        An[i, :] /= np.linalg.norm(row) + 0.0001\n",
    "    return An\n",
    "\n",
    "def find_k_closest(query, dataset, k=5): \n",
    "    dataset = norm_vectors(dataset)\n",
    "    query = norm_vectors(query.reshape(1,-1))\n",
    "    index = list((i, v, np.dot(query[0], v)) for i, v in enumerate(dataset))    \n",
    "    return sorted(index, key=lambda pair: pair[2], reverse=True)[:k]\n",
    "\n",
    "query = \"good mood\"\n",
    "query_vec = model.infer_vector(query.lower().split(), alpha=start_alpha, steps=infer_epoch)\n",
    "r = find_k_closest(query_vec, sent_vecs)\n",
    "\n",
    "print(\"Results for query:\", query)\n",
    "for k, v, p in r:\n",
    "    print(\"\\t\", facts[k], \"sim=\", p)"
   ]
  },
  {
   "cell_type": "markdown",
   "metadata": {},
   "source": [
    "## 2. Training doc2vec model and documents classifier\n",
    "\n",
    "Now we would like you to train doc2vec model yourself based on [this topic-modeling dataset](https://code.google.com/archive/p/topic-modeling-tool/downloads).\n",
    "\n",
    "### 2.1 Read dataset\n",
    "\n",
    "First, read the dataset - it consists of 4 parts, you need to merge them into single list. "
   ]
  },
  {
   "cell_type": "code",
   "execution_count": 148,
   "metadata": {},
   "outputs": [],
   "source": [
    "#TODO read the dataset into list\n",
    "file_names = ['testdata_braininjury_10000docs.txt','testdata_news_economy_2073docs.txt',\n",
    "             'testdata_news_fuel_845docs.txt', 'testdata_news_music_2084docs.txt']\n",
    "index_to_tag = {0:'braininjury', 1:'economy', 2:'fuel', 3:'music'}\n",
    "file_labels = [0, 1, 2, 3]\n",
    "all_data, all_labels = [], []\n",
    "for path, label in zip(file_names, file_labels):\n",
    "    file = open(path, 'r') \n",
    "    for line in file.readlines():\n",
    "        all_data.append(line.lower().split())\n",
    "        all_labels.append(label)\n",
    "all_labels = np.array(all_labels)"
   ]
  },
  {
   "cell_type": "markdown",
   "metadata": {},
   "source": [
    "### 2.2 Tests "
   ]
  },
  {
   "cell_type": "code",
   "execution_count": 149,
   "metadata": {},
   "outputs": [
    {
     "name": "stdout",
     "output_type": "stream",
     "text": [
      "15002\n"
     ]
    }
   ],
   "source": [
    "print(len(all_data))\n",
    "assert len(all_data) == 15002"
   ]
  },
  {
   "cell_type": "markdown",
   "metadata": {},
   "source": [
    "### 2.3 Training `doc2vec` model\n",
    "\n",
    "Train a `doc2vec` model based on the dataset you've loaded. The example of training is provided."
   ]
  },
  {
   "cell_type": "code",
   "execution_count": 186,
   "metadata": {},
   "outputs": [
    {
     "name": "stdout",
     "output_type": "stream",
     "text": [
      "[-0.06089206  0.02674813  0.0978206   0.09179214 -0.07358344]\n"
     ]
    }
   ],
   "source": [
    "#TODO change this according to the task\n",
    "# small set of tokenized sentences\n",
    "from gensim.test.utils import common_texts\n",
    "from gensim.models.doc2vec import Doc2Vec, TaggedDocument\n",
    "# just a test set of tokenized sentences\n",
    "documents = [TaggedDocument(doc, [i]) for i, doc in enumerate(all_data)]\n",
    "# train a model\n",
    "model = Doc2Vec(\n",
    "    documents,     # collection of texts\n",
    "    vector_size=5, # output vector size\n",
    "    window=2,      # maximum distance between the target word and its neighboring word\n",
    "    min_count=1,   # minimal number of \n",
    "    workers=4      # in parallel\n",
    ")\n",
    "\n",
    "# clean training data\n",
    "model.delete_temporary_training_data(keep_doctags_vectors=True, keep_inference=True)\n",
    "\n",
    "# save and load\n",
    "model.save(\"d2v.model\")\n",
    "model = Doc2Vec.load(\"d2v.model\")\n",
    "\n",
    "vec = model.infer_vector([\"system\", \"response\"])\n",
    "print(vec)"
   ]
  },
  {
   "cell_type": "markdown",
   "metadata": {},
   "source": [
    "### 2.4 Form train and test datasets\n",
    "\n",
    "Transform documents to vectors and split data to train and test sets. Make sure that the split is stratified as the classes are imbalanced."
   ]
  },
  {
   "cell_type": "code",
   "execution_count": 187,
   "metadata": {},
   "outputs": [],
   "source": [
    "#TODO transform and make a train-test split\n",
    "from sklearn.model_selection import StratifiedShuffleSplit\n",
    "all_data_transformed = []\n",
    "\n",
    "for line in all_data:\n",
    "    all_data_transformed.append(model.infer_vector(line))\n",
    "all_data_transformed = np.array(all_data_transformed)"
   ]
  },
  {
   "cell_type": "code",
   "execution_count": 188,
   "metadata": {},
   "outputs": [
    {
     "name": "stdout",
     "output_type": "stream",
     "text": [
      "train set Counter({0: 7000, 3: 1459, 1: 1451, 2: 591})\n",
      "test set Counter({0: 3000, 3: 625, 1: 622, 2: 254})\n"
     ]
    }
   ],
   "source": [
    "from collections import Counter\n",
    "sss = StratifiedShuffleSplit(n_splits=1, test_size=0.3, random_state=0)\n",
    "for train_index, test_index in sss.split(all_data_transformed, all_labels):\n",
    "    X_train, X_test = all_data_transformed[train_index], all_data_transformed[test_index]\n",
    "    y_train, y_test = all_labels[train_index.astype(int)], all_labels[test_index.astype(int)]\n",
    "print(f'train set {Counter(y_train)}')\n",
    "print(f'test set {Counter(y_test)}')\n",
    "\n",
    "# X_train, X_test, y_train, y_test = sss.get_n_splits(all_data, all_labels)"
   ]
  },
  {
   "cell_type": "markdown",
   "metadata": {},
   "source": [
    "### 2.5 Train topics classifier\n",
    "\n",
    "Train a classifier that would classify any document to one of four categories: fuel, brain injury, music, and economy.\n",
    "Print a classification report for test data."
   ]
  },
  {
   "cell_type": "code",
   "execution_count": 192,
   "metadata": {},
   "outputs": [
    {
     "name": "stdout",
     "output_type": "stream",
     "text": [
      "              precision    recall  f1-score   support\n",
      "\n",
      "           0       1.00      0.99      1.00      3000\n",
      "           1       0.64      0.76      0.69       622\n",
      "           2       0.65      0.07      0.12       254\n",
      "           3       0.70      0.84      0.76       625\n",
      "\n",
      "   micro avg       0.89      0.89      0.89      4501\n",
      "   macro avg       0.75      0.66      0.64      4501\n",
      "weighted avg       0.89      0.89      0.87      4501\n",
      "\n",
      "{0: 'braininjury', 1: 'economy', 2: 'fuel', 3: 'music'}\n"
     ]
    }
   ],
   "source": [
    "#TODO train a classifier and measure its performance\n",
    "from matplotlib import pyplot as plt\n",
    "\n",
    "from sklearn.tree import DecisionTreeClassifier \n",
    "dtree_model = DecisionTreeClassifier(max_depth = 5).fit(X_train, y_train)\n",
    "dtree_predictions = dtree_model.predict(X_test) \n",
    "\n",
    "from sklearn.metrics import classification_report\n",
    "print(classification_report(y_test, dtree_predictions))\n",
    "print(index_to_tag)"
   ]
  },
  {
   "cell_type": "markdown",
   "metadata": {},
   "source": [
    "Which class is the hardest one to recognize?\n",
    "\n",
    "The hardest class to recognize is fuel"
   ]
  },
  {
   "cell_type": "markdown",
   "metadata": {},
   "source": [
    "### 2.6 Bonus task\n",
    "\n",
    "What if we trained our `doc2vec` model using window size = 5 or 10? Would it improve the classification acccuracy? What about vector dimensionality? Does it mean that increasing it we will achieve better performance in terms of classification?\n",
    "\n",
    "Explore the influence of these parameters on classification performance, visualizing it as a graph (e.g. window size vs f1-score, vector dim vs f1-score)."
   ]
  },
  {
   "cell_type": "code",
   "execution_count": 194,
   "metadata": {},
   "outputs": [
    {
     "data": {
      "image/png": "[encoded data removed]",
      "text/plain": [
       "<Figure size 432x288 with 1 Axes>"
      ]
     },
     "metadata": {
      "needs_background": "light"
     },
     "output_type": "display_data"
    }
   ],
   "source": [
    "#TODO bonus task\n",
    "from sklearn.metrics import f1_score\n",
    "window_sizes = [i for i in range(2,10)]\n",
    "f1_scores = []\n",
    "for ws in window_sizes:\n",
    "    model = Doc2Vec(\n",
    "        documents,     # collection of texts\n",
    "        vector_size=5, # output vector size\n",
    "        window=ws,      # maximum distance between the target word and its neighboring word\n",
    "        min_count=1,   # minimal number of \n",
    "        workers=4      # in parallel\n",
    "    )\n",
    "\n",
    "    # clean training data\n",
    "    model.delete_temporary_training_data(keep_doctags_vectors=True, keep_inference=True)\n",
    "    all_data_transformed = []\n",
    "    for line in all_data:\n",
    "        all_data_transformed.append(model.infer_vector(line))y\n",
    "    all_data_transformed = np.array(all_data_transformed)\n",
    "    \n",
    "    X_train, X_test = all_data_transformed[train_index], all_data_transformed[test_index]\n",
    "    y_train, y_test = all_labels[train_index], all_labels[test_index]\n",
    "    \n",
    "    dtree_model = DecisionTreeClassifier(max_depth = 5).fit(X_train, y_train) \n",
    "    dtree_predictions = dtree_model.predict(X_test) \n",
    "    f1_scores.append(f1_score(y_test, dtree_predictions, average='macro'))\n",
    "    \n",
    "plt.plot(window_sizes, f1_scores)\n",
    "plt.xlabel('window size')\n",
    "plt.ylabel('f1 score')\n",
    "plt.show()"
   ]
  },
  {
   "cell_type": "code",
   "execution_count": 196,
   "metadata": {},
   "outputs": [
    {
     "data": {
      "image/png": "[encoded data removed]",
      "text/plain": [
       "<Figure size 432x288 with 1 Axes>"
      ]
     },
     "metadata": {
      "needs_background": "light"
     },
     "output_type": "display_data"
    }
   ],
   "source": [
    "#TODO bonus task\n",
    "from sklearn.metrics import f1_score\n",
    "vector_sizes = [5,7,9,11,13,15]\n",
    "f1_scores = []\n",
    "for vs in vector_sizes:\n",
    "    model = Doc2Vec(\n",
    "        documents,     # collection of texts\n",
    "        vector_size=vs, # output vector size\n",
    "        window=5,      # maximum distance between the target word and its neighboring word\n",
    "        min_count=1,   # minimal number of \n",
    "        workers=4      # in parallel\n",
    "    )\n",
    "\n",
    "    # clean training data\n",
    "    model.delete_temporary_training_data(keep_doctags_vectors=True, keep_inference=True)\n",
    "    all_data_transformed = []\n",
    "    for line in all_data:\n",
    "        all_data_transformed.append(model.infer_vector(line))\n",
    "    all_data_transformed = np.array(all_data_transformed)\n",
    "    \n",
    "    for train_index, test_index in sss.split(all_data_transformed, all_labels):\n",
    "        X_train, X_test = all_data_transformed[train_index], all_data_transformed[test_index]\n",
    "        y_train, y_test = all_labels[train_index.astype(int)], all_labels[test_index.astype(int)]\n",
    "        \n",
    "    dtree_model = DecisionTreeClassifier(max_depth = 5).fit(X_train, y_train) \n",
    "    dtree_predictions = dtree_model.predict(X_test) \n",
    "    f1_scores.append(f1_score(y_test, dtree_predictions, average='macro'))\n",
    "    \n",
    "plt.plot(vector_sizes, f1_scores)\n",
    "plt.xlabel('vector size')\n",
    "plt.ylabel('f1 score')\n",
    "plt.show()"
   ]
  }
 ],
 "metadata": {
  "kernelspec": {
   "display_name": "Python 3",
   "language": "python",
   "name": "python3"
  },
  "language_info": {
   "codemirror_mode": {
    "name": "ipython",
    "version": 3
   },
   "file_extension": ".py",
   "mimetype": "text/x-python",
   "name": "python",
   "nbconvert_exporter": "python",
   "pygments_lexer": "ipython3",
   "version": "3.6.8"
  }
 },
 "nbformat": 4,
 "nbformat_minor": 2
}
